{
 "cells": [
  {
   "cell_type": "markdown",
   "id": "fb86e90b",
   "metadata": {},
   "source": [
    "## Question 1\n",
    "### Kaya Equation\n",
    "\n",
    "CO2_emitted = P x (GDP/P) x (E/GDP) x (CO_2/E)  \n",
    "\n",
    "**P**: \t\tPopulation\n",
    "\n",
    "**GDP/P**: \tPopulation per capita\n",
    "\n",
    "**E/GDP**: \tEnergy intensity per unit of GDP\n",
    "\n",
    "**CO_2/E**:\tCarbon emissions per unit of energy consumed   \n",
    "\n",
    "**(a)** Make a table from 1950 to 2020 for the United States for all of the variables in the Kaya equation.  It may be easier to find denominators and numerators.  Make sure and reference your sources.  Plot all of the terms and the total CO2 emissions in separate graphs with appropriate axes labels. Write a paragraph commenting on at least three trends that you observed in the table."
   ]
  },
  {
   "cell_type": "markdown",
   "id": "52f17ffd",
   "metadata": {},
   "source": [
    "Source for population and GDP: https://www.eia.gov/totalenergy/data/monthly/pdf/sec12_22.pdf\n",
    "\n",
    "Source for energy consumption: https://www.eia.gov/energyexplained//us-energy-facts/charts/primary-consumption-by-major-source.csv\n",
    "\n",
    "Source for CO_2/E (Figure 4), post-1990: https://www.eia.gov/environment/emissions/carbon/\n",
    "\n",
    "Pre-1990: https://www.statista.com/statistics/204879/us-carbon-dioxide-emissions-by-sector-since-1950/"
   ]
  },
  {
   "cell_type": "code",
   "execution_count": 1,
   "id": "98cfddf4",
   "metadata": {},
   "outputs": [],
   "source": [
    "import os\n",
    "import pandas as pd\n",
    "import numpy as np"
   ]
  },
  {
   "cell_type": "code",
   "execution_count": 2,
   "id": "2ec8d25a",
   "metadata": {},
   "outputs": [],
   "source": [
    "DATA_DIR_BASE = os.path.join(\n",
    "    os.path.dirname(os.path.realpath(\"__file__\")),\n",
    "    \"data\",\n",
    "    \"hw1\"\n",
    ")\n",
    "\n",
    "RAW_DATA_DIR = os.path.join(\n",
    "    DATA_DIR_BASE,\n",
    "    \"raw\"\n",
    ")\n",
    "\n",
    "INTERIM_DATA_DIR = os.path.join(\n",
    "    DATA_DIR_BASE,\n",
    "    \"interim\"\n",
    ")\n",
    "\n",
    "PROCESSED_DATA_DIR = os.path.join(\n",
    "    DATA_DIR_BASE,\n",
    "    \"processed\"\n",
    ")\n",
    "\n",
    "population_and_gdp_raw_filename = 'hw1_q1_kaya_equation.csv'\n",
    "consumption_filename = 'primary-consumption-by-major-source.csv'\n",
    "co2_per_unit_energy_post_1990_filename = 'Figure_5._Energy-related_CO2_by_end-use_sectors_1990–2019.csv'\n",
    "co2_per_unit_energy_pre_1990_filename = 'pre-1990-co2-emissions.csv'\n",
    "\n",
    "START_YEAR = 1950\n",
    "END_YEAR = 2020\n",
    "YEAR_COLUMN_NAME = 'Year'\n",
    "POPULATION_COLUMN_NAME = 'Population (M)'\n",
    "GDP_COLUMN_NAME = 'GDP (B)'\n",
    "population_and_gdp_raw_df = pd.read_csv(os.path.join(RAW_DATA_DIR, population_and_gdp_raw_filename))"
   ]
  },
  {
   "cell_type": "code",
   "execution_count": 3,
   "id": "07956e48",
   "metadata": {},
   "outputs": [],
   "source": [
    "def get_interpolation_years(year):\n",
    "    \n",
    "    decade = str(year)[0:3]\n",
    "    year_of_decade = int(str(year)[-1])\n",
    "\n",
    "    interpolation_begin_year = int(\"{}5\".format(decade)) if \\\n",
    "        year_of_decade > 5 else int(\"{}0\".format(decade))\n",
    "\n",
    "    interpolation_end_year = int(\"{}5\".format(decade)) if \\\n",
    "        year_of_decade < 5 else int(\"{}0\".format(int(decade) + 1))\n",
    "    \n",
    "    return interpolation_begin_year, interpolation_end_year"
   ]
  },
  {
   "cell_type": "markdown",
   "id": "4591e711",
   "metadata": {},
   "source": [
    "### Interpolate Data\n",
    "\n",
    "Population and GDP"
   ]
  },
  {
   "cell_type": "code",
   "execution_count": 4,
   "id": "f035ea85",
   "metadata": {},
   "outputs": [],
   "source": [
    "full_population_gdp_df = pd.DataFrame(\n",
    "    columns = [YEAR_COLUMN_NAME, POPULATION_COLUMN_NAME, GDP_COLUMN_NAME]\n",
    ")\n",
    "\n",
    "for year in range(START_YEAR, END_YEAR + 1):\n",
    "    \n",
    "    if year in population_and_gdp_raw_df[YEAR_COLUMN_NAME].values:\n",
    "        row_to_append = {\n",
    "            YEAR_COLUMN_NAME: year,\n",
    "            GDP_COLUMN_NAME: population_and_gdp_raw_df[population_and_gdp_raw_df [YEAR_COLUMN_NAME] == year][GDP_COLUMN_NAME].iloc[0],\n",
    "            POPULATION_COLUMN_NAME: population_and_gdp_raw_df[population_and_gdp_raw_df [YEAR_COLUMN_NAME] == year][POPULATION_COLUMN_NAME].iloc[0]\n",
    "        }\n",
    "    else: \n",
    "        decade = str(year)[0:3]\n",
    "        year_of_decade = int(str(year)[-1])\n",
    "        \n",
    "        interpolation_begin_year = int(\"{}5\".format(decade)) if \\\n",
    "            year_of_decade > 5 else int(\"{}0\".format(decade))\n",
    "        \n",
    "        interpolation_end_year = int(\"{}5\".format(decade)) if \\\n",
    "            year_of_decade < 5 else int(\"{}0\".format(int(decade) + 1))\n",
    "        \n",
    "        interpolation_begin_value_population = population_and_gdp_raw_df [population_and_gdp_raw_df [YEAR_COLUMN_NAME] == interpolation_begin_year][POPULATION_COLUMN_NAME].iloc[0]\n",
    "        interpolation_end_value_population = population_and_gdp_raw_df [population_and_gdp_raw_df [YEAR_COLUMN_NAME] == interpolation_end_year][POPULATION_COLUMN_NAME].iloc[0]\n",
    "        \n",
    "        interpolation_begin_value_gdp = population_and_gdp_raw_df [population_and_gdp_raw_df[YEAR_COLUMN_NAME] == interpolation_begin_year][GDP_COLUMN_NAME].iloc[0]\n",
    "        interpolation_end_value_gdp = population_and_gdp_raw_df [population_and_gdp_raw_df[YEAR_COLUMN_NAME] == interpolation_end_year][GDP_COLUMN_NAME].iloc[0]\n",
    "        \n",
    "        yearly_interpolation_increment_population = (interpolation_end_value_population - interpolation_begin_value_population) / 5\n",
    "        yearly_interpolation_increment_gdp = (interpolation_end_value_gdp - interpolation_begin_value_gdp) / 5\n",
    "        \n",
    "        increment_multiplier = year_of_decade if year_of_decade < 5 else year_of_decade - 5\n",
    "        \n",
    "        interpolated_gdp = interpolation_begin_value_gdp + (yearly_interpolation_increment_gdp * increment_multiplier)\n",
    "        interpolated_population = interpolation_begin_value_population + (yearly_interpolation_increment_population * increment_multiplier)\n",
    "        \n",
    "        row_to_append = {\n",
    "            YEAR_COLUMN_NAME: year,\n",
    "            GDP_COLUMN_NAME: interpolated_gdp,\n",
    "            POPULATION_COLUMN_NAME: interpolated_population\n",
    "        }\n",
    "        \n",
    "    full_population_gdp_df = full_population_gdp_df.append(\n",
    "        row_to_append,\n",
    "        ignore_index = True\n",
    "    )\n",
    " \n",
    "full_population_gdp_df[YEAR_COLUMN_NAME] = full_population_gdp_df[YEAR_COLUMN_NAME].astype(int)\n",
    "        #interpolation_end_value = \n",
    "        #print(year,interpolation_begin_year, interpolation_begin_value_gdp, interpolation_end_value_gdp)\n",
    "        \n",
    "full_population_gdp_df.to_csv(os.path.join(INTERIM_DATA_DIR, \"population_and_gdp.csv\"), index = False)"
   ]
  },
  {
   "cell_type": "code",
   "execution_count": 5,
   "id": "8d9955c1",
   "metadata": {},
   "outputs": [
    {
     "data": {
      "text/html": [
       "<div>\n",
       "<style scoped>\n",
       "    .dataframe tbody tr th:only-of-type {\n",
       "        vertical-align: middle;\n",
       "    }\n",
       "\n",
       "    .dataframe tbody tr th {\n",
       "        vertical-align: top;\n",
       "    }\n",
       "\n",
       "    .dataframe thead th {\n",
       "        text-align: right;\n",
       "    }\n",
       "</style>\n",
       "<table border=\"1\" class=\"dataframe\">\n",
       "  <thead>\n",
       "    <tr style=\"text-align: right;\">\n",
       "      <th></th>\n",
       "      <th>Year</th>\n",
       "      <th>Population (M)</th>\n",
       "      <th>GDP (B)</th>\n",
       "    </tr>\n",
       "  </thead>\n",
       "  <tbody>\n",
       "    <tr>\n",
       "      <th>59</th>\n",
       "      <td>2009</td>\n",
       "      <td>306.8</td>\n",
       "      <td>14448.9</td>\n",
       "    </tr>\n",
       "  </tbody>\n",
       "</table>\n",
       "</div>"
      ],
      "text/plain": [
       "    Year  Population (M)  GDP (B)\n",
       "59  2009           306.8  14448.9"
      ]
     },
     "execution_count": 5,
     "metadata": {},
     "output_type": "execute_result"
    }
   ],
   "source": [
    "full_population_gdp_df[full_population_gdp_df[YEAR_COLUMN_NAME] == 2009]"
   ]
  },
  {
   "cell_type": "markdown",
   "id": "5230d2a3",
   "metadata": {},
   "source": [
    "#### Consumption"
   ]
  },
  {
   "cell_type": "code",
   "execution_count": 6,
   "id": "6e403fb2",
   "metadata": {},
   "outputs": [],
   "source": [
    "# raw data in quadrillion BTUs\n",
    "TOTAL_CONSUMPTION_BTUS_COLUMN_NAME = 'consumption_quad_btus'\n",
    "TOTAL_CONSUMPTION_GJS_COLUMN_NAME = 'consumption_gj'\n",
    "consumption_raw_df = pd.read_csv(\n",
    "    os.path.join(RAW_DATA_DIR, consumption_filename),\n",
    "    skiprows = 5\n",
    ")\n",
    "\n",
    "energy_source_columns = [col for col in consumption_raw_df.columns[1:]]\n",
    "consumption_raw_df.columns = [YEAR_COLUMN_NAME] + energy_source_columns\n",
    "\n",
    "consumption_interim_df = consumption_raw_df.copy()"
   ]
  },
  {
   "cell_type": "code",
   "execution_count": 7,
   "id": "139b739f",
   "metadata": {},
   "outputs": [],
   "source": [
    "consumption_interim_df[TOTAL_CONSUMPTION_BTUS_COLUMN_NAME] = \\\n",
    "    consumption_interim_df.apply(lambda x: x[energy_source_columns].sum(),\n",
    "        axis = 1\n",
    ")\n",
    "\n",
    "GIGAJOULES_PER_QUAD = 1055055852.62\n",
    "\n",
    "consumption_interim_df[TOTAL_CONSUMPTION_GJS_COLUMN_NAME] = \\\n",
    "    consumption_interim_df[TOTAL_CONSUMPTION_BTUS_COLUMN_NAME] * GIGAJOULES_PER_QUAD\n",
    "\n",
    "consumption_interim_df[[YEAR_COLUMN_NAME, TOTAL_CONSUMPTION_GJS_COLUMN_NAME]].to_csv(\n",
    "    os.path.join(INTERIM_DATA_DIR, \"consumption.csv\"),\n",
    "    index=False\n",
    ")"
   ]
  },
  {
   "cell_type": "markdown",
   "id": "1026084b",
   "metadata": {},
   "source": [
    "CO2 Emissions"
   ]
  },
  {
   "cell_type": "code",
   "execution_count": 8,
   "id": "04b39189",
   "metadata": {},
   "outputs": [],
   "source": [
    "RESIDENTIAL_EMISSIONS_COLUMN_NAME = 'residential million metric tons of carbon dioxide'\n",
    "COMMERCIAL_EMISSIONS_COLUMN_NAME = 'commercial million metric tons of carbon dioxide'\n",
    "INDUSTRIAL_EMISSIONS_COLUMN_NAME = 'industrial million metric tons of carbon dioxide'\n",
    "TRANSPORTATION_EMISSIONS_COLUMN_NAME = 'transportation million metric tons of carbon dioxide'\n",
    "TOTAL_EMISSIONS_COLUMN_NAME = 'total_emissions_million_metric_tons'\n",
    "\n",
    "pre_1990_co2_df = pd.read_csv(\n",
    "    os.path.join(\n",
    "        RAW_DATA_DIR,\n",
    "        co2_per_unit_energy_pre_1990_filename\n",
    "    )\n",
    ")\n",
    "post_1990_co2_df = pd.read_csv(\n",
    "    os.path.join(RAW_DATA_DIR, co2_per_unit_energy_post_1990_filename),\n",
    "    skiprows=4\n",
    ")\n",
    "\n",
    "post_1990_co2_df.columns = [YEAR_COLUMN_NAME] + [col for col in post_1990_co2_df.columns[1:]]"
   ]
  },
  {
   "cell_type": "code",
   "execution_count": 9,
   "id": "0b0f5af9",
   "metadata": {},
   "outputs": [],
   "source": [
    "#pre_1990_co2_df\n",
    "\n",
    "full_pre_1990_co2_df = pd.DataFrame()\n",
    "for year in range(START_YEAR, 1990):\n",
    "\n",
    "    if year in pre_1990_co2_df[YEAR_COLUMN_NAME].values:\n",
    "        \n",
    "        row_to_append = {\n",
    "            YEAR_COLUMN_NAME: year,\n",
    "            RESIDENTIAL_EMISSIONS_COLUMN_NAME: pre_1990_co2_df[pre_1990_co2_df[YEAR_COLUMN_NAME] == year][RESIDENTIAL_EMISSIONS_COLUMN_NAME].iloc[0],\n",
    "            COMMERCIAL_EMISSIONS_COLUMN_NAME: pre_1990_co2_df[pre_1990_co2_df[YEAR_COLUMN_NAME] == year][COMMERCIAL_EMISSIONS_COLUMN_NAME].iloc[0],\n",
    "            INDUSTRIAL_EMISSIONS_COLUMN_NAME: pre_1990_co2_df[pre_1990_co2_df[YEAR_COLUMN_NAME] == year][INDUSTRIAL_EMISSIONS_COLUMN_NAME].iloc[0],\n",
    "            TRANSPORTATION_EMISSIONS_COLUMN_NAME: pre_1990_co2_df[pre_1990_co2_df[YEAR_COLUMN_NAME] == year][TRANSPORTATION_EMISSIONS_COLUMN_NAME].iloc[0]\n",
    "        }\n",
    "        \n",
    "    else:\n",
    "        \n",
    "        year_of_decade = int(str(year)[-1])\n",
    "        \n",
    "        interpolation_begin_year, interpolation_end_year = get_interpolation_years(year)\n",
    "\n",
    "        row_to_append = {\n",
    "            YEAR_COLUMN_NAME: year\n",
    "        }\n",
    "        \n",
    "        for column in [\n",
    "            RESIDENTIAL_EMISSIONS_COLUMN_NAME, \n",
    "            COMMERCIAL_EMISSIONS_COLUMN_NAME,\n",
    "            INDUSTRIAL_EMISSIONS_COLUMN_NAME,\n",
    "            TRANSPORTATION_EMISSIONS_COLUMN_NAME\n",
    "        ]:\n",
    "            \n",
    "            interpolation_begin_value = pre_1990_co2_df[pre_1990_co2_df[YEAR_COLUMN_NAME] == interpolation_begin_year][column].iloc[0]\n",
    "            interpolation_end_value = pre_1990_co2_df[pre_1990_co2_df[YEAR_COLUMN_NAME] == interpolation_end_year][column].iloc[0]\n",
    "            yearly_interpolation_increment = (interpolation_end_value - interpolation_begin_value) / 5\n",
    "            increment_multiplier = year_of_decade if year_of_decade < 5 else year_of_decade - 5\n",
    "\n",
    "            interpolated_value = interpolation_begin_value + (yearly_interpolation_increment * increment_multiplier)\n",
    "            row_to_append[column] = interpolated_value\n",
    "    \n",
    "    full_pre_1990_co2_df = full_pre_1990_co2_df.append(row_to_append, ignore_index=True)"
   ]
  },
  {
   "cell_type": "code",
   "execution_count": 10,
   "id": "6aed1409",
   "metadata": {
    "scrolled": true
   },
   "outputs": [
    {
     "data": {
      "text/html": [
       "<div>\n",
       "<style scoped>\n",
       "    .dataframe tbody tr th:only-of-type {\n",
       "        vertical-align: middle;\n",
       "    }\n",
       "\n",
       "    .dataframe tbody tr th {\n",
       "        vertical-align: top;\n",
       "    }\n",
       "\n",
       "    .dataframe thead th {\n",
       "        text-align: right;\n",
       "    }\n",
       "</style>\n",
       "<table border=\"1\" class=\"dataframe\">\n",
       "  <thead>\n",
       "    <tr style=\"text-align: right;\">\n",
       "      <th></th>\n",
       "      <th>Year</th>\n",
       "      <th>residential million metric tons of carbon dioxide</th>\n",
       "      <th>commercial million metric tons of carbon dioxide</th>\n",
       "      <th>industrial million metric tons of carbon dioxide</th>\n",
       "      <th>transportation million metric tons of carbon dioxide</th>\n",
       "    </tr>\n",
       "  </thead>\n",
       "  <tbody>\n",
       "    <tr>\n",
       "      <th>0</th>\n",
       "      <td>1950.0</td>\n",
       "      <td>350.0</td>\n",
       "      <td>297.0</td>\n",
       "      <td>1095.0</td>\n",
       "      <td>640.0</td>\n",
       "    </tr>\n",
       "    <tr>\n",
       "      <th>1</th>\n",
       "      <td>1951.0</td>\n",
       "      <td>367.2</td>\n",
       "      <td>293.8</td>\n",
       "      <td>1132.2</td>\n",
       "      <td>649.4</td>\n",
       "    </tr>\n",
       "    <tr>\n",
       "      <th>2</th>\n",
       "      <td>1952.0</td>\n",
       "      <td>384.4</td>\n",
       "      <td>290.6</td>\n",
       "      <td>1169.4</td>\n",
       "      <td>658.8</td>\n",
       "    </tr>\n",
       "    <tr>\n",
       "      <th>3</th>\n",
       "      <td>1953.0</td>\n",
       "      <td>401.6</td>\n",
       "      <td>287.4</td>\n",
       "      <td>1206.6</td>\n",
       "      <td>668.2</td>\n",
       "    </tr>\n",
       "    <tr>\n",
       "      <th>4</th>\n",
       "      <td>1954.0</td>\n",
       "      <td>418.8</td>\n",
       "      <td>284.2</td>\n",
       "      <td>1243.8</td>\n",
       "      <td>677.6</td>\n",
       "    </tr>\n",
       "    <tr>\n",
       "      <th>5</th>\n",
       "      <td>1955.0</td>\n",
       "      <td>436.0</td>\n",
       "      <td>281.0</td>\n",
       "      <td>1281.0</td>\n",
       "      <td>687.0</td>\n",
       "    </tr>\n",
       "    <tr>\n",
       "      <th>6</th>\n",
       "      <td>1956.0</td>\n",
       "      <td>457.2</td>\n",
       "      <td>287.2</td>\n",
       "      <td>1286.4</td>\n",
       "      <td>699.8</td>\n",
       "    </tr>\n",
       "    <tr>\n",
       "      <th>7</th>\n",
       "      <td>1957.0</td>\n",
       "      <td>478.4</td>\n",
       "      <td>293.4</td>\n",
       "      <td>1291.8</td>\n",
       "      <td>712.6</td>\n",
       "    </tr>\n",
       "    <tr>\n",
       "      <th>8</th>\n",
       "      <td>1958.0</td>\n",
       "      <td>499.6</td>\n",
       "      <td>299.6</td>\n",
       "      <td>1297.2</td>\n",
       "      <td>725.4</td>\n",
       "    </tr>\n",
       "    <tr>\n",
       "      <th>9</th>\n",
       "      <td>1959.0</td>\n",
       "      <td>520.8</td>\n",
       "      <td>305.8</td>\n",
       "      <td>1302.6</td>\n",
       "      <td>738.2</td>\n",
       "    </tr>\n",
       "    <tr>\n",
       "      <th>10</th>\n",
       "      <td>1960.0</td>\n",
       "      <td>542.0</td>\n",
       "      <td>312.0</td>\n",
       "      <td>1308.0</td>\n",
       "      <td>751.0</td>\n",
       "    </tr>\n",
       "    <tr>\n",
       "      <th>11</th>\n",
       "      <td>1961.0</td>\n",
       "      <td>562.4</td>\n",
       "      <td>327.0</td>\n",
       "      <td>1357.0</td>\n",
       "      <td>776.4</td>\n",
       "    </tr>\n",
       "    <tr>\n",
       "      <th>12</th>\n",
       "      <td>1962.0</td>\n",
       "      <td>582.8</td>\n",
       "      <td>342.0</td>\n",
       "      <td>1406.0</td>\n",
       "      <td>801.8</td>\n",
       "    </tr>\n",
       "    <tr>\n",
       "      <th>13</th>\n",
       "      <td>1963.0</td>\n",
       "      <td>603.2</td>\n",
       "      <td>357.0</td>\n",
       "      <td>1455.0</td>\n",
       "      <td>827.2</td>\n",
       "    </tr>\n",
       "    <tr>\n",
       "      <th>14</th>\n",
       "      <td>1964.0</td>\n",
       "      <td>623.6</td>\n",
       "      <td>372.0</td>\n",
       "      <td>1504.0</td>\n",
       "      <td>852.6</td>\n",
       "    </tr>\n",
       "    <tr>\n",
       "      <th>15</th>\n",
       "      <td>1965.0</td>\n",
       "      <td>644.0</td>\n",
       "      <td>387.0</td>\n",
       "      <td>1553.0</td>\n",
       "      <td>878.0</td>\n",
       "    </tr>\n",
       "    <tr>\n",
       "      <th>16</th>\n",
       "      <td>1966.0</td>\n",
       "      <td>681.8</td>\n",
       "      <td>416.4</td>\n",
       "      <td>1594.2</td>\n",
       "      <td>929.6</td>\n",
       "    </tr>\n",
       "    <tr>\n",
       "      <th>17</th>\n",
       "      <td>1967.0</td>\n",
       "      <td>719.6</td>\n",
       "      <td>445.8</td>\n",
       "      <td>1635.4</td>\n",
       "      <td>981.2</td>\n",
       "    </tr>\n",
       "    <tr>\n",
       "      <th>18</th>\n",
       "      <td>1968.0</td>\n",
       "      <td>757.4</td>\n",
       "      <td>475.2</td>\n",
       "      <td>1676.6</td>\n",
       "      <td>1032.8</td>\n",
       "    </tr>\n",
       "    <tr>\n",
       "      <th>19</th>\n",
       "      <td>1969.0</td>\n",
       "      <td>795.2</td>\n",
       "      <td>504.6</td>\n",
       "      <td>1717.8</td>\n",
       "      <td>1084.4</td>\n",
       "    </tr>\n",
       "    <tr>\n",
       "      <th>20</th>\n",
       "      <td>1970.0</td>\n",
       "      <td>833.0</td>\n",
       "      <td>534.0</td>\n",
       "      <td>1759.0</td>\n",
       "      <td>1136.0</td>\n",
       "    </tr>\n",
       "    <tr>\n",
       "      <th>21</th>\n",
       "      <td>1971.0</td>\n",
       "      <td>839.8</td>\n",
       "      <td>543.8</td>\n",
       "      <td>1744.2</td>\n",
       "      <td>1167.2</td>\n",
       "    </tr>\n",
       "    <tr>\n",
       "      <th>22</th>\n",
       "      <td>1972.0</td>\n",
       "      <td>846.6</td>\n",
       "      <td>553.6</td>\n",
       "      <td>1729.4</td>\n",
       "      <td>1198.4</td>\n",
       "    </tr>\n",
       "    <tr>\n",
       "      <th>23</th>\n",
       "      <td>1973.0</td>\n",
       "      <td>853.4</td>\n",
       "      <td>563.4</td>\n",
       "      <td>1714.6</td>\n",
       "      <td>1229.6</td>\n",
       "    </tr>\n",
       "    <tr>\n",
       "      <th>24</th>\n",
       "      <td>1974.0</td>\n",
       "      <td>860.2</td>\n",
       "      <td>573.2</td>\n",
       "      <td>1699.8</td>\n",
       "      <td>1260.8</td>\n",
       "    </tr>\n",
       "    <tr>\n",
       "      <th>25</th>\n",
       "      <td>1975.0</td>\n",
       "      <td>867.0</td>\n",
       "      <td>583.0</td>\n",
       "      <td>1685.0</td>\n",
       "      <td>1292.0</td>\n",
       "    </tr>\n",
       "    <tr>\n",
       "      <th>26</th>\n",
       "      <td>1976.0</td>\n",
       "      <td>875.8</td>\n",
       "      <td>598.8</td>\n",
       "      <td>1703.4</td>\n",
       "      <td>1313.6</td>\n",
       "    </tr>\n",
       "    <tr>\n",
       "      <th>27</th>\n",
       "      <td>1977.0</td>\n",
       "      <td>884.6</td>\n",
       "      <td>614.6</td>\n",
       "      <td>1721.8</td>\n",
       "      <td>1335.2</td>\n",
       "    </tr>\n",
       "    <tr>\n",
       "      <th>28</th>\n",
       "      <td>1978.0</td>\n",
       "      <td>893.4</td>\n",
       "      <td>630.4</td>\n",
       "      <td>1740.2</td>\n",
       "      <td>1356.8</td>\n",
       "    </tr>\n",
       "    <tr>\n",
       "      <th>29</th>\n",
       "      <td>1979.0</td>\n",
       "      <td>902.2</td>\n",
       "      <td>646.2</td>\n",
       "      <td>1758.6</td>\n",
       "      <td>1378.4</td>\n",
       "    </tr>\n",
       "    <tr>\n",
       "      <th>30</th>\n",
       "      <td>1980.0</td>\n",
       "      <td>911.0</td>\n",
       "      <td>662.0</td>\n",
       "      <td>1777.0</td>\n",
       "      <td>1400.0</td>\n",
       "    </tr>\n",
       "    <tr>\n",
       "      <th>31</th>\n",
       "      <td>1981.0</td>\n",
       "      <td>910.6</td>\n",
       "      <td>670.6</td>\n",
       "      <td>1732.2</td>\n",
       "      <td>1404.2</td>\n",
       "    </tr>\n",
       "    <tr>\n",
       "      <th>32</th>\n",
       "      <td>1982.0</td>\n",
       "      <td>910.2</td>\n",
       "      <td>679.2</td>\n",
       "      <td>1687.4</td>\n",
       "      <td>1408.4</td>\n",
       "    </tr>\n",
       "    <tr>\n",
       "      <th>33</th>\n",
       "      <td>1983.0</td>\n",
       "      <td>909.8</td>\n",
       "      <td>687.8</td>\n",
       "      <td>1642.6</td>\n",
       "      <td>1412.6</td>\n",
       "    </tr>\n",
       "    <tr>\n",
       "      <th>34</th>\n",
       "      <td>1984.0</td>\n",
       "      <td>909.4</td>\n",
       "      <td>696.4</td>\n",
       "      <td>1597.8</td>\n",
       "      <td>1416.8</td>\n",
       "    </tr>\n",
       "    <tr>\n",
       "      <th>35</th>\n",
       "      <td>1985.0</td>\n",
       "      <td>909.0</td>\n",
       "      <td>705.0</td>\n",
       "      <td>1553.0</td>\n",
       "      <td>1421.0</td>\n",
       "    </tr>\n",
       "    <tr>\n",
       "      <th>36</th>\n",
       "      <td>1986.0</td>\n",
       "      <td>919.8</td>\n",
       "      <td>722.6</td>\n",
       "      <td>1581.8</td>\n",
       "      <td>1454.4</td>\n",
       "    </tr>\n",
       "    <tr>\n",
       "      <th>37</th>\n",
       "      <td>1987.0</td>\n",
       "      <td>930.6</td>\n",
       "      <td>740.2</td>\n",
       "      <td>1610.6</td>\n",
       "      <td>1487.8</td>\n",
       "    </tr>\n",
       "    <tr>\n",
       "      <th>38</th>\n",
       "      <td>1988.0</td>\n",
       "      <td>941.4</td>\n",
       "      <td>757.8</td>\n",
       "      <td>1639.4</td>\n",
       "      <td>1521.2</td>\n",
       "    </tr>\n",
       "    <tr>\n",
       "      <th>39</th>\n",
       "      <td>1989.0</td>\n",
       "      <td>952.2</td>\n",
       "      <td>775.4</td>\n",
       "      <td>1668.2</td>\n",
       "      <td>1554.6</td>\n",
       "    </tr>\n",
       "  </tbody>\n",
       "</table>\n",
       "</div>"
      ],
      "text/plain": [
       "      Year  residential million metric tons of carbon dioxide  \\\n",
       "0   1950.0                                              350.0   \n",
       "1   1951.0                                              367.2   \n",
       "2   1952.0                                              384.4   \n",
       "3   1953.0                                              401.6   \n",
       "4   1954.0                                              418.8   \n",
       "5   1955.0                                              436.0   \n",
       "6   1956.0                                              457.2   \n",
       "7   1957.0                                              478.4   \n",
       "8   1958.0                                              499.6   \n",
       "9   1959.0                                              520.8   \n",
       "10  1960.0                                              542.0   \n",
       "11  1961.0                                              562.4   \n",
       "12  1962.0                                              582.8   \n",
       "13  1963.0                                              603.2   \n",
       "14  1964.0                                              623.6   \n",
       "15  1965.0                                              644.0   \n",
       "16  1966.0                                              681.8   \n",
       "17  1967.0                                              719.6   \n",
       "18  1968.0                                              757.4   \n",
       "19  1969.0                                              795.2   \n",
       "20  1970.0                                              833.0   \n",
       "21  1971.0                                              839.8   \n",
       "22  1972.0                                              846.6   \n",
       "23  1973.0                                              853.4   \n",
       "24  1974.0                                              860.2   \n",
       "25  1975.0                                              867.0   \n",
       "26  1976.0                                              875.8   \n",
       "27  1977.0                                              884.6   \n",
       "28  1978.0                                              893.4   \n",
       "29  1979.0                                              902.2   \n",
       "30  1980.0                                              911.0   \n",
       "31  1981.0                                              910.6   \n",
       "32  1982.0                                              910.2   \n",
       "33  1983.0                                              909.8   \n",
       "34  1984.0                                              909.4   \n",
       "35  1985.0                                              909.0   \n",
       "36  1986.0                                              919.8   \n",
       "37  1987.0                                              930.6   \n",
       "38  1988.0                                              941.4   \n",
       "39  1989.0                                              952.2   \n",
       "\n",
       "    commercial million metric tons of carbon dioxide  \\\n",
       "0                                              297.0   \n",
       "1                                              293.8   \n",
       "2                                              290.6   \n",
       "3                                              287.4   \n",
       "4                                              284.2   \n",
       "5                                              281.0   \n",
       "6                                              287.2   \n",
       "7                                              293.4   \n",
       "8                                              299.6   \n",
       "9                                              305.8   \n",
       "10                                             312.0   \n",
       "11                                             327.0   \n",
       "12                                             342.0   \n",
       "13                                             357.0   \n",
       "14                                             372.0   \n",
       "15                                             387.0   \n",
       "16                                             416.4   \n",
       "17                                             445.8   \n",
       "18                                             475.2   \n",
       "19                                             504.6   \n",
       "20                                             534.0   \n",
       "21                                             543.8   \n",
       "22                                             553.6   \n",
       "23                                             563.4   \n",
       "24                                             573.2   \n",
       "25                                             583.0   \n",
       "26                                             598.8   \n",
       "27                                             614.6   \n",
       "28                                             630.4   \n",
       "29                                             646.2   \n",
       "30                                             662.0   \n",
       "31                                             670.6   \n",
       "32                                             679.2   \n",
       "33                                             687.8   \n",
       "34                                             696.4   \n",
       "35                                             705.0   \n",
       "36                                             722.6   \n",
       "37                                             740.2   \n",
       "38                                             757.8   \n",
       "39                                             775.4   \n",
       "\n",
       "    industrial million metric tons of carbon dioxide  \\\n",
       "0                                             1095.0   \n",
       "1                                             1132.2   \n",
       "2                                             1169.4   \n",
       "3                                             1206.6   \n",
       "4                                             1243.8   \n",
       "5                                             1281.0   \n",
       "6                                             1286.4   \n",
       "7                                             1291.8   \n",
       "8                                             1297.2   \n",
       "9                                             1302.6   \n",
       "10                                            1308.0   \n",
       "11                                            1357.0   \n",
       "12                                            1406.0   \n",
       "13                                            1455.0   \n",
       "14                                            1504.0   \n",
       "15                                            1553.0   \n",
       "16                                            1594.2   \n",
       "17                                            1635.4   \n",
       "18                                            1676.6   \n",
       "19                                            1717.8   \n",
       "20                                            1759.0   \n",
       "21                                            1744.2   \n",
       "22                                            1729.4   \n",
       "23                                            1714.6   \n",
       "24                                            1699.8   \n",
       "25                                            1685.0   \n",
       "26                                            1703.4   \n",
       "27                                            1721.8   \n",
       "28                                            1740.2   \n",
       "29                                            1758.6   \n",
       "30                                            1777.0   \n",
       "31                                            1732.2   \n",
       "32                                            1687.4   \n",
       "33                                            1642.6   \n",
       "34                                            1597.8   \n",
       "35                                            1553.0   \n",
       "36                                            1581.8   \n",
       "37                                            1610.6   \n",
       "38                                            1639.4   \n",
       "39                                            1668.2   \n",
       "\n",
       "    transportation million metric tons of carbon dioxide  \n",
       "0                                               640.0     \n",
       "1                                               649.4     \n",
       "2                                               658.8     \n",
       "3                                               668.2     \n",
       "4                                               677.6     \n",
       "5                                               687.0     \n",
       "6                                               699.8     \n",
       "7                                               712.6     \n",
       "8                                               725.4     \n",
       "9                                               738.2     \n",
       "10                                              751.0     \n",
       "11                                              776.4     \n",
       "12                                              801.8     \n",
       "13                                              827.2     \n",
       "14                                              852.6     \n",
       "15                                              878.0     \n",
       "16                                              929.6     \n",
       "17                                              981.2     \n",
       "18                                             1032.8     \n",
       "19                                             1084.4     \n",
       "20                                             1136.0     \n",
       "21                                             1167.2     \n",
       "22                                             1198.4     \n",
       "23                                             1229.6     \n",
       "24                                             1260.8     \n",
       "25                                             1292.0     \n",
       "26                                             1313.6     \n",
       "27                                             1335.2     \n",
       "28                                             1356.8     \n",
       "29                                             1378.4     \n",
       "30                                             1400.0     \n",
       "31                                             1404.2     \n",
       "32                                             1408.4     \n",
       "33                                             1412.6     \n",
       "34                                             1416.8     \n",
       "35                                             1421.0     \n",
       "36                                             1454.4     \n",
       "37                                             1487.8     \n",
       "38                                             1521.2     \n",
       "39                                             1554.6     "
      ]
     },
     "execution_count": 10,
     "metadata": {},
     "output_type": "execute_result"
    }
   ],
   "source": [
    "full_pre_1990_co2_df"
   ]
  },
  {
   "cell_type": "code",
   "execution_count": 11,
   "id": "0690b2a2",
   "metadata": {},
   "outputs": [],
   "source": [
    "full_co2_df = full_pre_1990_co2_df.append(\n",
    "    post_1990_co2_df[[\n",
    "        YEAR_COLUMN_NAME,\n",
    "        RESIDENTIAL_EMISSIONS_COLUMN_NAME, \n",
    "        COMMERCIAL_EMISSIONS_COLUMN_NAME,\n",
    "        INDUSTRIAL_EMISSIONS_COLUMN_NAME,\n",
    "        TRANSPORTATION_EMISSIONS_COLUMN_NAME\n",
    "    ]]\n",
    ")\n",
    "\n",
    "full_co2_df[YEAR_COLUMN_NAME] = full_co2_df[YEAR_COLUMN_NAME].astype(int)"
   ]
  },
  {
   "cell_type": "code",
   "execution_count": 12,
   "id": "a0413973",
   "metadata": {},
   "outputs": [],
   "source": [
    "full_co2_df[TOTAL_EMISSIONS_COLUMN_NAME] = full_co2_df.apply(\n",
    "    lambda x: x[[\n",
    "        RESIDENTIAL_EMISSIONS_COLUMN_NAME, \n",
    "        COMMERCIAL_EMISSIONS_COLUMN_NAME,\n",
    "        INDUSTRIAL_EMISSIONS_COLUMN_NAME,\n",
    "        TRANSPORTATION_EMISSIONS_COLUMN_NAME\n",
    "    ]].sum(),\n",
    "    axis = 1\n",
    ")\n",
    "\n",
    "full_co2_df[[YEAR_COLUMN_NAME, TOTAL_EMISSIONS_COLUMN_NAME]].to_csv(\n",
    "    os.path.join(INTERIM_DATA_DIR, \"co2_emissions.csv\"),\n",
    "    index = False\n",
    ")"
   ]
  },
  {
   "cell_type": "markdown",
   "id": "52069ef3",
   "metadata": {},
   "source": [
    "#### Merge dataframes"
   ]
  },
  {
   "cell_type": "code",
   "execution_count": 13,
   "id": "cee5dbf8",
   "metadata": {},
   "outputs": [],
   "source": [
    "full_kaya_df = full_population_gdp_df.merge(\n",
    "    consumption_interim_df[[YEAR_COLUMN_NAME, TOTAL_CONSUMPTION_GJS_COLUMN_NAME]]\n",
    ")"
   ]
  },
  {
   "cell_type": "code",
   "execution_count": 14,
   "id": "4347f7dd",
   "metadata": {},
   "outputs": [],
   "source": [
    "full_kaya_df = full_kaya_df.merge(\n",
    "    full_co2_df[[YEAR_COLUMN_NAME, TOTAL_EMISSIONS_COLUMN_NAME]],\n",
    "    how = 'left'\n",
    ")\n",
    "\n",
    "full_kaya_df = full_kaya_df.set_index(YEAR_COLUMN_NAME)\n",
    "\n",
    "# take average of prev 5 years for 2020. \n",
    "interpolated_value_2020_co2_emissions = np.mean(\n",
    "    full_kaya_df[full_kaya_df.index.isin([2015, 2016, 2017, 2018, 2019])]\n",
    "    [TOTAL_EMISSIONS_COLUMN_NAME].values\n",
    ")\n",
    "\n",
    "full_kaya_df.at[2020, TOTAL_EMISSIONS_COLUMN_NAME] = interpolated_value_2020_co2_emissions"
   ]
  },
  {
   "cell_type": "code",
   "execution_count": 15,
   "id": "9b0a44a5",
   "metadata": {},
   "outputs": [],
   "source": [
    "STANDARDIZED_GDP_COLUMN_NAME = \"gdp_standardized\"\n",
    "STANDARDIZED_POPULATION_COLUMN_NAME = \"population_standardized\"\n",
    "STANDARDIZED_CONSUMPTION_COLUMN_NAME = \"energy_consumption_standardized\"\n",
    "STANDARDIZED_CO2_EMISSIONS_COLUMN_NAME = \"co2_emissions_standardized\"\n",
    "\n",
    "POPULATION_UNIT_CONVERSION_FACTOR = 1000000 # million >> one\n",
    "GDP_UNIT_CONVERSION_FACTOR = 1000000000 # billion >> 1000\n",
    "CONSUMPTION_UNIT_CONVERSION_FACTOR = 1 # GJ >> GJ\n",
    "CO2_EMISSIONS_UNIT_CONVERSION_FACTOR = 1000000 # million >> one"
   ]
  },
  {
   "cell_type": "code",
   "execution_count": 16,
   "id": "00734a41",
   "metadata": {},
   "outputs": [],
   "source": [
    "full_kaya_df[STANDARDIZED_GDP_COLUMN_NAME] = full_kaya_df[GDP_COLUMN_NAME] * GDP_UNIT_CONVERSION_FACTOR\n",
    "full_kaya_df[STANDARDIZED_POPULATION_COLUMN_NAME] = full_kaya_df[POPULATION_COLUMN_NAME] * POPULATION_UNIT_CONVERSION_FACTOR\n",
    "full_kaya_df[STANDARDIZED_CONSUMPTION_COLUMN_NAME] = full_kaya_df[TOTAL_CONSUMPTION_GJS_COLUMN_NAME] * CONSUMPTION_UNIT_CONVERSION_FACTOR\n",
    "full_kaya_df[STANDARDIZED_CO2_EMISSIONS_COLUMN_NAME] = full_kaya_df[TOTAL_EMISSIONS_COLUMN_NAME] * CO2_EMISSIONS_UNIT_CONVERSION_FACTOR"
   ]
  },
  {
   "cell_type": "code",
   "execution_count": 17,
   "id": "4e60e4df",
   "metadata": {},
   "outputs": [
    {
     "data": {
      "text/html": [
       "<div>\n",
       "<style scoped>\n",
       "    .dataframe tbody tr th:only-of-type {\n",
       "        vertical-align: middle;\n",
       "    }\n",
       "\n",
       "    .dataframe tbody tr th {\n",
       "        vertical-align: top;\n",
       "    }\n",
       "\n",
       "    .dataframe thead th {\n",
       "        text-align: right;\n",
       "    }\n",
       "</style>\n",
       "<table border=\"1\" class=\"dataframe\">\n",
       "  <thead>\n",
       "    <tr style=\"text-align: right;\">\n",
       "      <th></th>\n",
       "      <th>Population (M)</th>\n",
       "      <th>GDP (B)</th>\n",
       "      <th>consumption_gj</th>\n",
       "      <th>total_emissions_million_metric_tons</th>\n",
       "      <th>gdp_standardized</th>\n",
       "      <th>population_standardized</th>\n",
       "      <th>energy_consumption_standardized</th>\n",
       "      <th>co2_emissions_standardized</th>\n",
       "    </tr>\n",
       "    <tr>\n",
       "      <th>Year</th>\n",
       "      <th></th>\n",
       "      <th></th>\n",
       "      <th></th>\n",
       "      <th></th>\n",
       "      <th></th>\n",
       "      <th></th>\n",
       "      <th></th>\n",
       "      <th></th>\n",
       "    </tr>\n",
       "  </thead>\n",
       "  <tbody>\n",
       "    <tr>\n",
       "      <th>1950</th>\n",
       "      <td>152.30</td>\n",
       "      <td>299.80</td>\n",
       "      <td>3.649544e+10</td>\n",
       "      <td>2382.0</td>\n",
       "      <td>2.998000e+11</td>\n",
       "      <td>152300000.0</td>\n",
       "      <td>3.649544e+10</td>\n",
       "      <td>2.382000e+09</td>\n",
       "    </tr>\n",
       "    <tr>\n",
       "      <th>1951</th>\n",
       "      <td>155.02</td>\n",
       "      <td>324.94</td>\n",
       "      <td>3.900330e+10</td>\n",
       "      <td>2442.6</td>\n",
       "      <td>3.249400e+11</td>\n",
       "      <td>155020000.0</td>\n",
       "      <td>3.900330e+10</td>\n",
       "      <td>2.442600e+09</td>\n",
       "    </tr>\n",
       "    <tr>\n",
       "      <th>1952</th>\n",
       "      <td>157.74</td>\n",
       "      <td>350.08</td>\n",
       "      <td>3.875220e+10</td>\n",
       "      <td>2503.2</td>\n",
       "      <td>3.500800e+11</td>\n",
       "      <td>157740000.0</td>\n",
       "      <td>3.875220e+10</td>\n",
       "      <td>2.503200e+09</td>\n",
       "    </tr>\n",
       "    <tr>\n",
       "      <th>1953</th>\n",
       "      <td>160.46</td>\n",
       "      <td>375.22</td>\n",
       "      <td>3.971547e+10</td>\n",
       "      <td>2563.8</td>\n",
       "      <td>3.752200e+11</td>\n",
       "      <td>160460000.0</td>\n",
       "      <td>3.971547e+10</td>\n",
       "      <td>2.563800e+09</td>\n",
       "    </tr>\n",
       "    <tr>\n",
       "      <th>1954</th>\n",
       "      <td>163.18</td>\n",
       "      <td>400.36</td>\n",
       "      <td>3.862770e+10</td>\n",
       "      <td>2624.4</td>\n",
       "      <td>4.003600e+11</td>\n",
       "      <td>163180000.0</td>\n",
       "      <td>3.862770e+10</td>\n",
       "      <td>2.624400e+09</td>\n",
       "    </tr>\n",
       "    <tr>\n",
       "      <th>...</th>\n",
       "      <td>...</td>\n",
       "      <td>...</td>\n",
       "      <td>...</td>\n",
       "      <td>...</td>\n",
       "      <td>...</td>\n",
       "      <td>...</td>\n",
       "      <td>...</td>\n",
       "      <td>...</td>\n",
       "    </tr>\n",
       "    <tr>\n",
       "      <th>2016</th>\n",
       "      <td>323.10</td>\n",
       "      <td>18745.10</td>\n",
       "      <td>1.024776e+11</td>\n",
       "      <td>5171.0</td>\n",
       "      <td>1.874510e+13</td>\n",
       "      <td>323100000.0</td>\n",
       "      <td>1.024776e+11</td>\n",
       "      <td>5.171000e+09</td>\n",
       "    </tr>\n",
       "    <tr>\n",
       "      <th>2017</th>\n",
       "      <td>325.10</td>\n",
       "      <td>19543.00</td>\n",
       "      <td>1.027983e+11</td>\n",
       "      <td>5132.0</td>\n",
       "      <td>1.954300e+13</td>\n",
       "      <td>325100000.0</td>\n",
       "      <td>1.027983e+11</td>\n",
       "      <td>5.132000e+09</td>\n",
       "    </tr>\n",
       "    <tr>\n",
       "      <th>2018</th>\n",
       "      <td>326.80</td>\n",
       "      <td>20611.90</td>\n",
       "      <td>1.065997e+11</td>\n",
       "      <td>5282.0</td>\n",
       "      <td>2.061190e+13</td>\n",
       "      <td>326800000.0</td>\n",
       "      <td>1.065997e+11</td>\n",
       "      <td>5.282000e+09</td>\n",
       "    </tr>\n",
       "    <tr>\n",
       "      <th>2019</th>\n",
       "      <td>328.30</td>\n",
       "      <td>21433.20</td>\n",
       "      <td>1.056966e+11</td>\n",
       "      <td>5130.0</td>\n",
       "      <td>2.143320e+13</td>\n",
       "      <td>328300000.0</td>\n",
       "      <td>1.056966e+11</td>\n",
       "      <td>5.130000e+09</td>\n",
       "    </tr>\n",
       "    <tr>\n",
       "      <th>2020</th>\n",
       "      <td>329.50</td>\n",
       "      <td>20932.80</td>\n",
       "      <td>9.790391e+10</td>\n",
       "      <td>5195.6</td>\n",
       "      <td>2.093280e+13</td>\n",
       "      <td>329500000.0</td>\n",
       "      <td>9.790391e+10</td>\n",
       "      <td>5.195600e+09</td>\n",
       "    </tr>\n",
       "  </tbody>\n",
       "</table>\n",
       "<p>71 rows × 8 columns</p>\n",
       "</div>"
      ],
      "text/plain": [
       "      Population (M)   GDP (B)  consumption_gj  \\\n",
       "Year                                             \n",
       "1950          152.30    299.80    3.649544e+10   \n",
       "1951          155.02    324.94    3.900330e+10   \n",
       "1952          157.74    350.08    3.875220e+10   \n",
       "1953          160.46    375.22    3.971547e+10   \n",
       "1954          163.18    400.36    3.862770e+10   \n",
       "...              ...       ...             ...   \n",
       "2016          323.10  18745.10    1.024776e+11   \n",
       "2017          325.10  19543.00    1.027983e+11   \n",
       "2018          326.80  20611.90    1.065997e+11   \n",
       "2019          328.30  21433.20    1.056966e+11   \n",
       "2020          329.50  20932.80    9.790391e+10   \n",
       "\n",
       "      total_emissions_million_metric_tons  gdp_standardized  \\\n",
       "Year                                                          \n",
       "1950                               2382.0      2.998000e+11   \n",
       "1951                               2442.6      3.249400e+11   \n",
       "1952                               2503.2      3.500800e+11   \n",
       "1953                               2563.8      3.752200e+11   \n",
       "1954                               2624.4      4.003600e+11   \n",
       "...                                   ...               ...   \n",
       "2016                               5171.0      1.874510e+13   \n",
       "2017                               5132.0      1.954300e+13   \n",
       "2018                               5282.0      2.061190e+13   \n",
       "2019                               5130.0      2.143320e+13   \n",
       "2020                               5195.6      2.093280e+13   \n",
       "\n",
       "      population_standardized  energy_consumption_standardized  \\\n",
       "Year                                                             \n",
       "1950              152300000.0                     3.649544e+10   \n",
       "1951              155020000.0                     3.900330e+10   \n",
       "1952              157740000.0                     3.875220e+10   \n",
       "1953              160460000.0                     3.971547e+10   \n",
       "1954              163180000.0                     3.862770e+10   \n",
       "...                       ...                              ...   \n",
       "2016              323100000.0                     1.024776e+11   \n",
       "2017              325100000.0                     1.027983e+11   \n",
       "2018              326800000.0                     1.065997e+11   \n",
       "2019              328300000.0                     1.056966e+11   \n",
       "2020              329500000.0                     9.790391e+10   \n",
       "\n",
       "      co2_emissions_standardized  \n",
       "Year                              \n",
       "1950                2.382000e+09  \n",
       "1951                2.442600e+09  \n",
       "1952                2.503200e+09  \n",
       "1953                2.563800e+09  \n",
       "1954                2.624400e+09  \n",
       "...                          ...  \n",
       "2016                5.171000e+09  \n",
       "2017                5.132000e+09  \n",
       "2018                5.282000e+09  \n",
       "2019                5.130000e+09  \n",
       "2020                5.195600e+09  \n",
       "\n",
       "[71 rows x 8 columns]"
      ]
     },
     "execution_count": 17,
     "metadata": {},
     "output_type": "execute_result"
    }
   ],
   "source": [
    "full_kaya_df"
   ]
  },
  {
   "cell_type": "code",
   "execution_count": 18,
   "id": "c4b7e2e9",
   "metadata": {},
   "outputs": [],
   "source": [
    "GDP_PER_CAPITA_COLUMN_NAME = 'GDP / P ($1000/person)'\n",
    "ENERGY_INTENSITY_COLUMN_NAME = 'E / GDP (GJ/$1000)'\n",
    "CO2_EMISSIONS_PER_UNIT_ENERGY_CONSUMED = 'CO2 / E (tonnes/GJ)'\n",
    "\n",
    "kaya_equation_columns = [\n",
    "    GDP_PER_CAPITA_COLUMN_NAME,\n",
    "    ENERGY_INTENSITY_COLUMN_NAME,\n",
    "    CO2_EMISSIONS_PER_UNIT_ENERGY_CONSUMED\n",
    "]\n",
    "\n",
    "full_kaya_df[GDP_PER_CAPITA_COLUMN_NAME] = full_kaya_df[STANDARDIZED_GDP_COLUMN_NAME] / full_kaya_df[STANDARDIZED_POPULATION_COLUMN_NAME]\n",
    "full_kaya_df[ENERGY_INTENSITY_COLUMN_NAME] = full_kaya_df[STANDARDIZED_CONSUMPTION_COLUMN_NAME] / full_kaya_df[STANDARDIZED_GDP_COLUMN_NAME] * 1000\n",
    "full_kaya_df[CO2_EMISSIONS_PER_UNIT_ENERGY_CONSUMED] = full_kaya_df[STANDARDIZED_CO2_EMISSIONS_COLUMN_NAME] / full_kaya_df[STANDARDIZED_CONSUMPTION_COLUMN_NAME]"
   ]
  },
  {
   "cell_type": "code",
   "execution_count": 19,
   "id": "62de4150",
   "metadata": {},
   "outputs": [
    {
     "data": {
      "text/html": [
       "<div>\n",
       "<style scoped>\n",
       "    .dataframe tbody tr th:only-of-type {\n",
       "        vertical-align: middle;\n",
       "    }\n",
       "\n",
       "    .dataframe tbody tr th {\n",
       "        vertical-align: top;\n",
       "    }\n",
       "\n",
       "    .dataframe thead th {\n",
       "        text-align: right;\n",
       "    }\n",
       "</style>\n",
       "<table border=\"1\" class=\"dataframe\">\n",
       "  <thead>\n",
       "    <tr style=\"text-align: right;\">\n",
       "      <th></th>\n",
       "      <th>GDP / P ($1000/person)</th>\n",
       "      <th>E / GDP (GJ/$1000)</th>\n",
       "      <th>CO2 / E (tonnes/GJ)</th>\n",
       "    </tr>\n",
       "    <tr>\n",
       "      <th>Year</th>\n",
       "      <th></th>\n",
       "      <th></th>\n",
       "      <th></th>\n",
       "    </tr>\n",
       "  </thead>\n",
       "  <tbody>\n",
       "    <tr>\n",
       "      <th>2004</th>\n",
       "      <td>41713.456284</td>\n",
       "      <td>8.623268</td>\n",
       "      <td>0.056759</td>\n",
       "    </tr>\n",
       "  </tbody>\n",
       "</table>\n",
       "</div>"
      ],
      "text/plain": [
       "      GDP / P ($1000/person)  E / GDP (GJ/$1000)  CO2 / E (tonnes/GJ)\n",
       "Year                                                                 \n",
       "2004            41713.456284            8.623268             0.056759"
      ]
     },
     "execution_count": 19,
     "metadata": {},
     "output_type": "execute_result"
    }
   ],
   "source": [
    "full_kaya_df[full_kaya_df.index == 2004][kaya_equation_columns] # matches Vanek Table 3-4"
   ]
  },
  {
   "cell_type": "code",
   "execution_count": 20,
   "id": "9bad5435",
   "metadata": {},
   "outputs": [],
   "source": [
    "full_kaya_df.to_csv(\n",
    "    os.path.join(PROCESSED_DATA_DIR, \"kaya_df.csv\")\n",
    ")"
   ]
  },
  {
   "cell_type": "code",
   "execution_count": 21,
   "id": "3b5cc8b2",
   "metadata": {},
   "outputs": [],
   "source": [
    "import matplotlib.pyplot as plt"
   ]
  },
  {
   "cell_type": "code",
   "execution_count": 22,
   "id": "c31a0e09",
   "metadata": {},
   "outputs": [
    {
     "data": {
      "image/png": "[encoded data removed]",
      "text/plain": [
       "<Figure size 432x288 with 1 Axes>"
      ]
     },
     "metadata": {
      "needs_background": "light"
     },
     "output_type": "display_data"
    }
   ],
   "source": [
    "plt.plot(full_kaya_df.index, full_kaya_df[POPULATION_COLUMN_NAME])\n",
    "plt.xlabel(YEAR_COLUMN_NAME)\n",
    "plt.ylabel(POPULATION_COLUMN_NAME)\n",
    "plt.ylim(0)\n",
    "plt.show()"
   ]
  },
  {
   "cell_type": "code",
   "execution_count": 23,
   "id": "164cf457",
   "metadata": {},
   "outputs": [
    {
     "data": {
      "image/png": "[encoded data removed]",
      "text/plain": [
       "<Figure size 432x288 with 1 Axes>"
      ]
     },
     "metadata": {
      "needs_background": "light"
     },
     "output_type": "display_data"
    }
   ],
   "source": [
    "plt.plot(full_kaya_df.index, full_kaya_df[GDP_PER_CAPITA_COLUMN_NAME])\n",
    "plt.xlabel(YEAR_COLUMN_NAME)\n",
    "plt.ylabel(GDP_PER_CAPITA_COLUMN_NAME)\n",
    "plt.show()"
   ]
  },
  {
   "cell_type": "code",
   "execution_count": 24,
   "id": "5203608c",
   "metadata": {},
   "outputs": [
    {
     "data": {
      "image/png": "[encoded data removed]",
      "text/plain": [
       "<Figure size 432x288 with 1 Axes>"
      ]
     },
     "metadata": {
      "needs_background": "light"
     },
     "output_type": "display_data"
    }
   ],
   "source": [
    "plt.plot(full_kaya_df.index, full_kaya_df[ENERGY_INTENSITY_COLUMN_NAME])\n",
    "plt.xlabel(YEAR_COLUMN_NAME)\n",
    "plt.ylabel(ENERGY_INTENSITY_COLUMN_NAME)\n",
    "plt.ylim(0)\n",
    "plt.show()"
   ]
  },
  {
   "cell_type": "code",
   "execution_count": 25,
   "id": "5329e656",
   "metadata": {},
   "outputs": [
    {
     "data": {
      "image/png": "[encoded data removed]",
      "text/plain": [
       "<Figure size 432x288 with 1 Axes>"
      ]
     },
     "metadata": {
      "needs_background": "light"
     },
     "output_type": "display_data"
    }
   ],
   "source": [
    "plt.plot(full_kaya_df.index, full_kaya_df[CO2_EMISSIONS_PER_UNIT_ENERGY_CONSUMED])\n",
    "plt.xlabel(YEAR_COLUMN_NAME)\n",
    "plt.ylabel(CO2_EMISSIONS_PER_UNIT_ENERGY_CONSUMED)\n",
    "plt.ylim(0)\n",
    "plt.show()"
   ]
  },
  {
   "cell_type": "markdown",
   "id": "e241c2bc",
   "metadata": {},
   "source": [
    "### Question 1(b)\n",
    "\n",
    "Considering the data from your table, think about appropriate fitting functions that would allow you to extrapolate for each term in the Kaya equation for the US to 2100.  Optimize the fitting function for individual terms and overlay the fitted extrapolations on the original data with the x-axis going out to 2100.  Choose your fitting function based on reasonable assessment of the variable that you are fitting and document the equations with the numerical constants for your fits.  Write a paragraph commenting on at least three trends that you observed in the table."
   ]
  },
  {
   "cell_type": "code",
   "execution_count": 26,
   "id": "9c70f51c",
   "metadata": {},
   "outputs": [],
   "source": [
    "from sklearn.linear_model import LinearRegression"
   ]
  },
  {
   "cell_type": "markdown",
   "id": "d656227a",
   "metadata": {},
   "source": [
    "Each variable in the Kaya equation dataset needs a different fitting function. Although imperfect, it's possible to determine which fitting function is required for a variable by looking at the plot.\n",
    "\n",
    "Simple linear regression models can be fit to the `CO2 / E` and `Population` variables since their plots reveal a relatively straight line from 1950 - 2020"
   ]
  },
  {
   "cell_type": "code",
   "execution_count": 27,
   "id": "295208df",
   "metadata": {},
   "outputs": [],
   "source": [
    "years_observed = np.array(full_kaya_df.index).reshape(-1, 1)\n",
    "years_extrapolated = np.array([year for year in range(2020, 2101)])"
   ]
  },
  {
   "cell_type": "markdown",
   "id": "2deec1cd",
   "metadata": {},
   "source": [
    "#### CO2 / E"
   ]
  },
  {
   "cell_type": "code",
   "execution_count": 28,
   "id": "ffcc1a81",
   "metadata": {},
   "outputs": [
    {
     "name": "stdout",
     "output_type": "stream",
     "text": [
      "Intercept of OLS fit for CO2 / E: 0.3957429376173215\n",
      "Coefficient of OLS fit to CO2 / E: -0.00017035783831002147\n"
     ]
    }
   ],
   "source": [
    "co2_emissions_observed = np.array(full_kaya_df[CO2_EMISSIONS_PER_UNIT_ENERGY_CONSUMED])\n",
    "co2_emissions_regression = LinearRegression().fit(years_observed, co2_emissions_observed) \n",
    "\n",
    "co2_emissions_preds = co2_emissions_regression.predict(years_observed)\n",
    "co2_emissions_extrapolated = co2_emissions_regression.predict(years_extrapolated.reshape(-1, 1))\n",
    "\n",
    "print(\"Intercept of OLS fit for CO2 / E: {}\".format(co2_emissions_regression.intercept_))\n",
    "print(\"Coefficient of OLS fit to CO2 / E: {}\".format(co2_emissions_regression.coef_[0]))"
   ]
  },
  {
   "cell_type": "code",
   "execution_count": 29,
   "id": "518d3a46",
   "metadata": {},
   "outputs": [
    {
     "data": {
      "image/png": "[encoded data removed]",
      "text/plain": [
       "<Figure size 432x288 with 1 Axes>"
      ]
     },
     "metadata": {
      "needs_background": "light"
     },
     "output_type": "display_data"
    }
   ],
   "source": [
    "plt.plot(full_kaya_df.index, co2_emissions_observed)\n",
    "plt.plot(full_kaya_df.index, co2_emissions_preds, '--', color='green')\n",
    "plt.plot(years_extrapolated, co2_emissions_extrapolated, '--', color='green')\n",
    "plt.ylabel(CO2_EMISSIONS_PER_UNIT_ENERGY_CONSUMED)\n",
    "plt.xlabel(YEAR_COLUMN_NAME)\n",
    "plt.ylim(0)\n",
    "plt.show()"
   ]
  },
  {
   "cell_type": "markdown",
   "id": "a8c979e2",
   "metadata": {},
   "source": [
    "#### Population"
   ]
  },
  {
   "cell_type": "code",
   "execution_count": 59,
   "id": "469d9147",
   "metadata": {},
   "outputs": [
    {
     "name": "stdout",
     "output_type": "stream",
     "text": [
      "Intercept of OLS fit to Population: -4835.660630449364\n",
      "Coefficient of OLS fit to Population: 2.5581623071763926\n"
     ]
    }
   ],
   "source": [
    "population_observed = np.array(full_kaya_df[POPULATION_COLUMN_NAME])\n",
    "population_regression = LinearRegression().fit(years_observed, population_observed) \n",
    "\n",
    "population_preds = population_regression.predict(years_observed)\n",
    "population_extrapolated = population_regression.predict(years_extrapolated.reshape(-1, 1))\n",
    "\n",
    "print(\"Intercept of OLS fit to Population: {}\".format(population_regression.intercept_))\n",
    "print(\"Coefficient of OLS fit to Population: {}\".format(population_regression.coef_[0]))"
   ]
  },
  {
   "cell_type": "code",
   "execution_count": 32,
   "id": "b4151271",
   "metadata": {},
   "outputs": [
    {
     "data": {
      "image/png": "[encoded data removed]",
      "text/plain": [
       "<Figure size 432x288 with 1 Axes>"
      ]
     },
     "metadata": {
      "needs_background": "light"
     },
     "output_type": "display_data"
    }
   ],
   "source": [
    "plt.plot(full_kaya_df.index, population_observed)\n",
    "plt.plot(full_kaya_df.index, population_preds, '--', color='green')\n",
    "plt.plot(years_extrapolated, population_extrapolated, '--', color='green')\n",
    "plt.ylabel(POPULATION_COLUMN_NAME)\n",
    "plt.xlabel(YEAR_COLUMN_NAME)\n",
    "plt.ylim(0)\n",
    "plt.show()"
   ]
  },
  {
   "cell_type": "code",
   "execution_count": null,
   "id": "e8ae2693",
   "metadata": {},
   "outputs": [],
   "source": [
    "plt.plot(full_kaya_df.index, full_kaya_df[GDP_PER_CAPITA_COLUMN_NAME])\n",
    "plt.xlabel(YEAR_COLUMN_NAME)\n",
    "plt.ylabel(GDP_PER_CAPITA_COLUMN_NAME)\n",
    "plt.show()"
   ]
  },
  {
   "cell_type": "markdown",
   "id": "c3115393",
   "metadata": {},
   "source": [
    "#### GDP / P\n",
    "Failed attempt - logistics function"
   ]
  },
  {
   "cell_type": "code",
   "execution_count": 54,
   "id": "55b229ce",
   "metadata": {},
   "outputs": [
    {
     "name": "stderr",
     "output_type": "stream",
     "text": [
      "/var/folders/96/v69ct1597978t9sjzmlk4cb00000gn/T/ipykernel_16764/1630077873.py:4: RuntimeWarning: overflow encountered in exp\n",
      "  return (F * np.exp(c1 + (c2 * t))) / (1 + np.exp(c1 + (c2 * t)))\n",
      "/var/folders/96/v69ct1597978t9sjzmlk4cb00000gn/T/ipykernel_16764/1630077873.py:4: RuntimeWarning: invalid value encountered in true_divide\n",
      "  return (F * np.exp(c1 + (c2 * t))) / (1 + np.exp(c1 + (c2 * t)))\n",
      "/Users/greg.bolla/.local/share/virtualenvs/code-7E_bVKF-/lib/python3.9/site-packages/scipy/optimize/minpack.py:833: OptimizeWarning: Covariance of the parameters could not be estimated\n",
      "  warnings.warn('Covariance of the parameters could not be estimated',\n"
     ]
    },
    {
     "name": "stdout",
     "output_type": "stream",
     "text": [
      "optimal parameters: [-2.94920817  0.01953342  0.01953342]\n"
     ]
    },
    {
     "data": {
      "image/png": "[encoded data removed]",
      "text/plain": [
       "<Figure size 432x288 with 1 Axes>"
      ]
     },
     "metadata": {
      "needs_background": "light"
     },
     "output_type": "display_data"
    }
   ],
   "source": [
    "from scipy.optimize import curve_fit\n",
    "\n",
    "def logistics_function(F, c1, c2, t):\n",
    "    return (F * np.exp(c1 + (c2 * t))) / (1 + np.exp(c1 + (c2 * t)))\n",
    "\n",
    "gdp_per_capita_observed = np.array(full_kaya_df[GDP_PER_CAPITA_COLUMN_NAME])\n",
    "parameters_optimal, parameters_covariance = curve_fit(\n",
    "    logistics_function, \n",
    "    gdp_per_capita_observed, \n",
    "    years_observed_as_floats\n",
    ")\n",
    "\n",
    "print(\"optimal parameters: {}\".format(parameters_optimal))\n",
    "plt.plot(years_observed_as_floats, logistics_function(years_observed_as_floats, *parameters_optimal))\n",
    "plt.show()"
   ]
  },
  {
   "cell_type": "markdown",
   "id": "c59b9cbe",
   "metadata": {},
   "source": [
    "#### GDP / P\n",
    "Linear Regression"
   ]
  },
  {
   "cell_type": "code",
   "execution_count": 58,
   "id": "8c2aac0a",
   "metadata": {},
   "outputs": [
    {
     "name": "stdout",
     "output_type": "stream",
     "text": [
      "Intercept of OLS fit for GDP / P: -1832969.2014286183\n",
      "Coefficient of OLS fit to GDP / P: 935.158079269839\n"
     ]
    },
    {
     "data": {
      "image/png": "[encoded data removed]",
      "text/plain": [
       "<Figure size 432x288 with 1 Axes>"
      ]
     },
     "metadata": {
      "needs_background": "light"
     },
     "output_type": "display_data"
    }
   ],
   "source": [
    "gdp_per_capita_observed = np.array(full_kaya_df[GDP_PER_CAPITA_COLUMN_NAME])\n",
    "gdp_per_capita_regression = LinearRegression().fit(years_observed, gdp_per_capita_observed) \n",
    "\n",
    "gdp_per_capita_preds = gdp_per_capita_regression.predict(years_observed)\n",
    "gdp_per_capita_extrapolated = gdp_per_capita_regression.predict(years_extrapolated.reshape(-1, 1))\n",
    "\n",
    "print(\"Intercept of OLS fit for GDP / P: {}\".format(gdp_per_capita_regression.intercept_))\n",
    "print(\"Coefficient of OLS fit to GDP / P: {}\".format(gdp_per_capita_regression.coef_[0]))\n",
    "\n",
    "plt.plot(full_kaya_df.index, gdp_per_capita_observed)\n",
    "plt.plot(full_kaya_df.index, gdp_per_capita_preds, '--', color='green')\n",
    "plt.plot(years_extrapolated, gdp_per_capita_extrapolated, '--', color='green')\n",
    "plt.ylabel(GDP_PER_CAPITA_COLUMN_NAME)\n",
    "plt.xlabel(YEAR_COLUMN_NAME)\n",
    "#plt.ylim(0)\n",
    "plt.show()"
   ]
  },
  {
   "attachments": {
    "image-3.png": {
     "image/png": "[encoded data removed]"
    }
   },
   "cell_type": "markdown",
   "id": "60a1a7f6",
   "metadata": {},
   "source": [
    "## Question 3\n",
    "\n",
    "(1.5 pts. total) (Vanek problem 4.4) In Vanek et al. Sect. 4.8, Example 4.4 presents the following point estimates for various parameters related to alternative vehicles from Bolduc, D., N. Boucher, and R. Alvarez Daziano (2008),\"Hybrid Choice Modeling of New Technologies for Car Choice in Canada.\"Trans. Res. Record, 2082: 63–71.\n",
    "\n",
    "c) Given the choice situation where the attributes take the following values, calculate the choice probabilities for an individual buyer.\n",
    "\n",
    "![image-3.png](attachment:image-3.png)"
   ]
  },
  {
   "cell_type": "code",
   "execution_count": 33,
   "id": "b93dfb96",
   "metadata": {},
   "outputs": [],
   "source": [
    "def utility_function(vehicle_constant, price, fuel_cost, fuel_availability, express_lane, power):\n",
    "    beta_price = -0.856\n",
    "    beta_fuel_cost = -0.826\n",
    "    beta_fuel_availability = 1.36\n",
    "    beta_express_lane = 0.156\n",
    "    beta_power = 2.7\n",
    "    \n",
    "    utility = vehicle_constant + (beta_price * price) + (beta_fuel_cost * fuel_cost) + (beta_fuel_availability * fuel_availability) + (beta_express_lane * express_lane) + (beta_power * power)\n",
    "        \n",
    "    return utility"
   ]
  },
  {
   "cell_type": "code",
   "execution_count": 34,
   "id": "f16394eb",
   "metadata": {},
   "outputs": [
    {
     "name": "stdout",
     "output_type": "stream",
     "text": [
      "SGV Choice Probability: 85.3%\n",
      "AFV Choice Probability: 0.3%\n",
      "HEV Choice Probability: 13.7%\n",
      "FCEV Choice Probability: 0.7%\n"
     ]
    }
   ],
   "source": [
    "from math import exp\n",
    "\n",
    "SGV_CONSTANT = 0.\n",
    "HEV_CONSTANT = -1.38\n",
    "AFV_CONSTANT = -4.5\n",
    "FCEV_CONSTANT = -2.1\n",
    "\n",
    "utility_sgv = utility_function(SGV_CONSTANT, 2.1, 1.3, 1, 0, 1)\n",
    "utility_afv = utility_function(AFV_CONSTANT, 2.2, 1.5, 0.6, 0, 0.9)\n",
    "utility_hev = utility_function(HEV_CONSTANT, 3.2, 0.7, 1, 0, 1)\n",
    "utility_fcev = utility_function(FCEV_CONSTANT, 3.95, 0.9, 0.2, 1, 0.8)\n",
    "\n",
    "choice_probability_denominator = exp(utility_sgv) + exp(utility_afv) + exp(utility_hev) + exp(utility_fcev)\n",
    "\n",
    "choice_probability_sgv = (exp(utility_sgv) / choice_probability_denominator)\n",
    "choice_probability_afv = (exp(utility_afv) / choice_probability_denominator)\n",
    "choice_probability_hev = (exp(utility_hev) / choice_probability_denominator)\n",
    "choice_probability_fcev = (exp(utility_fcev) / choice_probability_denominator)\n",
    "\n",
    "print(\"SGV Choice Probability: {:.1%}\".format(choice_probability_sgv) )\n",
    "print(\"AFV Choice Probability: {:.1%}\".format(choice_probability_afv) )\n",
    "print(\"HEV Choice Probability: {:.1%}\".format(choice_probability_hev) )\n",
    "print(\"FCEV Choice Probability: {:.1%}\".format(choice_probability_fcev) )"
   ]
  },
  {
   "cell_type": "code",
   "execution_count": null,
   "id": "46409b85",
   "metadata": {},
   "outputs": [],
   "source": []
  },
  {
   "cell_type": "markdown",
   "id": "34358a58",
   "metadata": {},
   "source": [
    "### Miscellaneous\n",
    "\n",
    "Using scipy.optimize.curve_fit"
   ]
  },
  {
   "cell_type": "code",
   "execution_count": 35,
   "id": "2ab3d96d",
   "metadata": {},
   "outputs": [
    {
     "name": "stderr",
     "output_type": "stream",
     "text": [
      "/var/folders/96/v69ct1597978t9sjzmlk4cb00000gn/T/ipykernel_16764/412197754.py:4: RuntimeWarning: overflow encountered in exp\n",
      "  return a * np.exp(k * x) + b\n",
      "/Users/greg.bolla/.local/share/virtualenvs/code-7E_bVKF-/lib/python3.9/site-packages/scipy/optimize/minpack.py:833: OptimizeWarning: Covariance of the parameters could not be estimated\n",
      "  warnings.warn('Covariance of the parameters could not be estimated',\n"
     ]
    }
   ],
   "source": [
    "from scipy.optimize import curve_fit\n",
    "\n",
    "def exponential_decay_func(x, a, k, b):\n",
    "    return a * np.exp(k * x) + b\n",
    "\n",
    "energy_intensity_observed = np.array(full_kaya_df[ENERGY_INTENSITY_COLUMN_NAME])\n",
    "\n",
    "years_observed_as_floats = np.array([float(year) for year in years_observed])\n",
    "parameters_optimal, parameters_covariance = curve_fit(exponential_decay_func, years_observed_as_floats, energy_intensity_observed)"
   ]
  },
  {
   "cell_type": "code",
   "execution_count": 36,
   "id": "408a2405",
   "metadata": {},
   "outputs": [
    {
     "name": "stderr",
     "output_type": "stream",
     "text": [
      "/var/folders/96/v69ct1597978t9sjzmlk4cb00000gn/T/ipykernel_16764/412197754.py:4: RuntimeWarning: overflow encountered in exp\n",
      "  return a * np.exp(k * x) + b\n"
     ]
    },
    {
     "data": {
      "image/png": "[encoded data removed]",
      "text/plain": [
       "<Figure size 432x288 with 1 Axes>"
      ]
     },
     "metadata": {
      "needs_background": "light"
     },
     "output_type": "display_data"
    }
   ],
   "source": [
    "plt.plot(years_observed_as_floats, exponential_decay_func(years_observed_as_floats, *parameters_optimal))\n",
    "plt.show()"
   ]
  },
  {
   "cell_type": "code",
   "execution_count": 37,
   "id": "a13e3698",
   "metadata": {},
   "outputs": [
    {
     "ename": "NameError",
     "evalue": "name 'regression' is not defined",
     "output_type": "error",
     "traceback": [
      "\u001b[0;31m---------------------------------------------------------------------------\u001b[0m",
      "\u001b[0;31mNameError\u001b[0m                                 Traceback (most recent call last)",
      "\u001b[0;32m/var/folders/96/v69ct1597978t9sjzmlk4cb00000gn/T/ipykernel_16764/3297680459.py\u001b[0m in \u001b[0;36m<module>\u001b[0;34m\u001b[0m\n\u001b[0;32m----> 1\u001b[0;31m \u001b[0mpreds\u001b[0m \u001b[0;34m=\u001b[0m \u001b[0mregression\u001b[0m\u001b[0;34m.\u001b[0m\u001b[0mpredict\u001b[0m\u001b[0;34m(\u001b[0m\u001b[0mx\u001b[0m\u001b[0;34m)\u001b[0m\u001b[0;34m\u001b[0m\u001b[0;34m\u001b[0m\u001b[0m\n\u001b[0m\u001b[1;32m      2\u001b[0m \u001b[0;34m\u001b[0m\u001b[0m\n\u001b[1;32m      3\u001b[0m \u001b[0mfuture_years\u001b[0m \u001b[0;34m=\u001b[0m \u001b[0mnp\u001b[0m\u001b[0;34m.\u001b[0m\u001b[0marray\u001b[0m\u001b[0;34m(\u001b[0m\u001b[0;34m[\u001b[0m\u001b[0myear\u001b[0m \u001b[0;32mfor\u001b[0m \u001b[0myear\u001b[0m \u001b[0;32min\u001b[0m \u001b[0mrange\u001b[0m\u001b[0;34m(\u001b[0m\u001b[0;36m2020\u001b[0m\u001b[0;34m,\u001b[0m \u001b[0;36m2101\u001b[0m\u001b[0;34m)\u001b[0m\u001b[0;34m]\u001b[0m\u001b[0;34m)\u001b[0m\u001b[0;34m\u001b[0m\u001b[0;34m\u001b[0m\u001b[0m\n\u001b[1;32m      4\u001b[0m \u001b[0mextrapolated\u001b[0m \u001b[0;34m=\u001b[0m \u001b[0mregression\u001b[0m\u001b[0;34m.\u001b[0m\u001b[0mpredict\u001b[0m\u001b[0;34m(\u001b[0m\u001b[0mfuture_years\u001b[0m\u001b[0;34m.\u001b[0m\u001b[0mreshape\u001b[0m\u001b[0;34m(\u001b[0m\u001b[0;34m-\u001b[0m\u001b[0;36m1\u001b[0m\u001b[0;34m,\u001b[0m \u001b[0;36m1\u001b[0m\u001b[0;34m)\u001b[0m\u001b[0;34m)\u001b[0m\u001b[0;34m\u001b[0m\u001b[0;34m\u001b[0m\u001b[0m\n",
      "\u001b[0;31mNameError\u001b[0m: name 'regression' is not defined"
     ]
    }
   ],
   "source": [
    "preds = regression.predict(x)\n",
    "\n",
    "future_years = np.array([year for year in range(2020, 2101)])\n",
    "extrapolated = regression.predict(future_years.reshape(-1, 1))"
   ]
  },
  {
   "cell_type": "code",
   "execution_count": null,
   "id": "7d562b0a",
   "metadata": {},
   "outputs": [],
   "source": [
    "model = np.polyfit(np.array(full_kaya_df.index), energy_intensity_observed, 0)"
   ]
  },
  {
   "cell_type": "code",
   "execution_count": null,
   "id": "7d765450",
   "metadata": {},
   "outputs": [],
   "source": [
    "splineYs = np.exp(np.polyval(model, np.array(full_kaya_df.index)))"
   ]
  },
  {
   "cell_type": "code",
   "execution_count": null,
   "id": "de4a5139",
   "metadata": {},
   "outputs": [],
   "source": [
    "plt.plot(years_observed, energy_intensity_observed)\n",
    "plt.plot(years_observed, splineYs)\n",
    "plt.show()"
   ]
  },
  {
   "cell_type": "code",
   "execution_count": null,
   "id": "6d966dc9",
   "metadata": {},
   "outputs": [],
   "source": [
    "model."
   ]
  },
  {
   "cell_type": "code",
   "execution_count": null,
   "id": "7158bfa1",
   "metadata": {},
   "outputs": [],
   "source": [
    "import statsmodels.api as sm\n",
    "\n",
    "model = sm.OLS(y, x).fit()"
   ]
  },
  {
   "cell_type": "code",
   "execution_count": null,
   "id": "9f3d0b9b",
   "metadata": {},
   "outputs": [],
   "source": [
    "model.summary()"
   ]
  },
  {
   "cell_type": "code",
   "execution_count": null,
   "id": "565cabd0",
   "metadata": {},
   "outputs": [],
   "source": [
    "np.random.normal(size = 2)"
   ]
  },
  {
   "cell_type": "code",
   "execution_count": null,
   "id": "de4e92ab",
   "metadata": {},
   "outputs": [],
   "source": [
    "9/9: \n",
    "    \n",
    "VKT / PKT: Social engineering. Make more passengers/vehicle more attractive\n",
    "Ground vehicle energy demands\n",
    "\n"
   ]
  },
  {
   "cell_type": "code",
   "execution_count": null,
   "id": "306f4eda",
   "metadata": {},
   "outputs": [],
   "source": [
    "Tesla\n",
    "\n",
    "mass = 1830                #kg\n",
    "area = 2.2                 #m^2\n",
    "rolling_resistance = 0.01  #\n",
    "drag_coefficient = 0.26    # \n",
    "accessory_load = 500       # \n",
    "battery_efficiency = 500   #W. efficiency of alternator and charging system\n"
   ]
  }
 ],
 "metadata": {
  "kernelspec": {
   "display_name": "Python 3 (ipykernel)",
   "language": "python",
   "name": "python3"
  },
  "language_info": {
   "codemirror_mode": {
    "name": "ipython",
    "version": 3
   },
   "file_extension": ".py",
   "mimetype": "text/x-python",
   "name": "python",
   "nbconvert_exporter": "python",
   "pygments_lexer": "ipython3",
   "version": "3.9.1"
  }
 },
 "nbformat": 4,
 "nbformat_minor": 5
}
