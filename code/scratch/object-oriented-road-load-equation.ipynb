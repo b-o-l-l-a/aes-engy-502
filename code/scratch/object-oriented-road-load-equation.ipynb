{
 "cells": [
  {
   "cell_type": "code",
   "execution_count": 1,
   "id": "c671365a",
   "metadata": {},
   "outputs": [],
   "source": [
    "import pandas as pd\n",
    "import math\n",
    "import os\n",
    "import sys"
   ]
  },
  {
   "cell_type": "code",
   "execution_count": 6,
   "id": "de51006f",
   "metadata": {},
   "outputs": [],
   "source": [
    "class GravitationalConstant():\n",
    "    \"\"\"\n",
    "    DESCRIPTION: A simple class representing the gravitational constant.\n",
    "    INPUT:\n",
    "        G: numerical value of the gravitational constant\n",
    "        unit: unit associated with gravitational constant. Must be one of [\"m/s^2\", \"m^3/kg*s^2\"]\n",
    "    \"\"\"\n",
    "    def __init__(self, G = 9.81, unit = \"m/s^2\"):\n",
    "        \n",
    "        self.unit = unit\n",
    "        acceptable_units = [\"m/s^2\", \"m^3/kg*s^2\"]\n",
    "        assert self.unit in acceptable_units, \n",
    "            \"Unit of gravitational constant not one of accepted options. Must be {}\".format(\n",
    "                \", \".join([unit for unit in acceptable_units])\n",
    "            )\n",
    "        self.G = G\n",
    "        self.unit = unit\n",
    "    "
   ]
  },
  {
   "cell_type": "code",
   "execution_count": 25,
   "id": "28c8ecf5",
   "metadata": {},
   "outputs": [],
   "source": [
    "def get_m_per_s_from_mph(mph):\n",
    "\n",
    "    return mph / 2.23694\n",
    "\n",
    "def get_mph_from_m_per_s(m_per_s):\n",
    "    \n",
    "    return m_per_s * 2.23694\n",
    "\n",
    "class Air():\n",
    "    \n",
    "    def __init__(self, \n",
    "                 density = 1.2041, \n",
    "                 density_unit = \"kg/m^3\",\n",
    "                 wind_speed = 0,\n",
    "                 wind_speed_unit = \"mph\"\n",
    "    ):\n",
    "    \n",
    "        self.wind_speed_unit = wind_speed_unit\n",
    "        acceptable_wind_speed_units = [\"mph\", \"m/s\"]\n",
    "\n",
    "        assert self.wind_speed_unit in acceptable_wind_speed_units, \\\n",
    "            \"Unit for wind speed is not one of accepted options. Must be {}\".format(\n",
    "                \", \".join([unit for unit in acceptable_wind_speed_units])\n",
    "            )\n",
    "\n",
    "        if self.wind_speed_unit == \"mph\":\n",
    "            self.wind_speed_mph = wind_speed\n",
    "            self.wind_speed_m_per_s = get_m_per_s_from_mph(wind_speed)\n",
    "\n",
    "        elif self.wind_speed_unit == \"m/s\":\n",
    "            self.wind_speed_m_per_s = wind_speed\n",
    "            self.wind_speed_mph = get_mph_from_m_per_s(wind_speed)\n",
    "\n",
    "        self.density = density\n",
    "        self.density_unit = density_unit\n",
    "\n",
    "        acceptable_density_units = [\"kg/m^3\"]\n",
    "        assert self.density_unit in acceptable_density_units, \\\n",
    "            \"Unit for air density is not one of accepted options. Must be {}\".format(\n",
    "                \", \".join([unit for unit in acceptable_density_units])\n",
    "            )\n",
    "\n",
    "    Air.get_m_per_s_from_mph = get_m_per_s_from_mph\n",
    "    Air.get_mph_from_m_per_s = get_mph_from_m_per_s\n"
   ]
  },
  {
   "cell_type": "code",
   "execution_count": 32,
   "id": "dc303593",
   "metadata": {},
   "outputs": [],
   "source": [
    "class Vehicle():\n",
    "    "
   ]
  },
  {
   "cell_type": "code",
   "execution_count": 34,
   "id": "e45971d1",
   "metadata": {},
   "outputs": [
    {
     "data": {
      "text/plain": [
       "22.369400000000002"
      ]
     },
     "execution_count": 34,
     "metadata": {},
     "output_type": "execute_result"
    }
   ],
   "source": [
    "air.wind_speed_mph"
   ]
  },
  {
   "cell_type": "code",
   "execution_count": null,
   "id": "8e11c6cb",
   "metadata": {},
   "outputs": [],
   "source": []
  }
 ],
 "metadata": {
  "kernelspec": {
   "display_name": "Python 3 (ipykernel)",
   "language": "python",
   "name": "python3"
  },
  "language_info": {
   "codemirror_mode": {
    "name": "ipython",
    "version": 3
   },
   "file_extension": ".py",
   "mimetype": "text/x-python",
   "name": "python",
   "nbconvert_exporter": "python",
   "pygments_lexer": "ipython3",
   "version": "3.9.7"
  }
 },
 "nbformat": 4,
 "nbformat_minor": 5
}
