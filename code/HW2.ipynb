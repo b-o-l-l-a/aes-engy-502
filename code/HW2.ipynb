{
 "cells": [
  {
   "cell_type": "markdown",
   "id": "55471880",
   "metadata": {},
   "source": [
    "# Transportation Operations and Solutions Question\n",
    "1) The Bureau of Public Roads flow curve, or \"BPR Curve\", relates traffic density to vehicle speed, similar to the speed/flow/density models presented in Chapter 7 in Vanek et al. **Sustainable Transportation Engineering**. The BPR curve equation is as follows: \n",
    "\n",
    "$ t = t_{0} \\Bigg( 1 + \\alpha(\\frac v v_{c}) \\Bigg)^\\beta $\n",
    "\n",
    "$ t $ = travel time <br/>\n",
    "$ t_{0} $ = free-flow travel time <br/>\n",
    "$ v $ = volume (cars / hour) <br/>\n",
    "$ v_{c} $ = practical capacity (cars / hour) <br/>\n",
    "$ \\beta $ = Parameters derived from travel surveys to fit data for a particular roadway\n",
    "\n",
    "In this problem, you will model a 30-mile highway with three lanes of inbound traffic. The single-direction capacity is 2500 $ vehicles / lane / hr $. \n",
    "\n",
    "Traffic survey data fits produced values of $ \\alpha $ = 1.5 and $ \\beta $ = 4, and a free-dlow vehicle velocity of 60 mph. Value lost time due to congestion at $12/hr and assume one occupant per vehicle. Throughout this problem, ignore transition effects between peak and non-peak conditions"
   ]
  },
  {
   "cell_type": "markdown",
   "id": "893221d3",
   "metadata": {},
   "source": [
    "### a) Plot $ t $ as a function of $ v $ for traffic volume values from 0 to 3000 $ cars / lane / hr $"
   ]
  },
  {
   "cell_type": "code",
   "execution_count": 159,
   "id": "fe48fae2",
   "metadata": {},
   "outputs": [],
   "source": [
    "import pandas as pd\n",
    "import math\n",
    "import os"
   ]
  },
  {
   "cell_type": "code",
   "execution_count": 78,
   "id": "781cb0e4",
   "metadata": {},
   "outputs": [],
   "source": [
    "VOLUME_PRACTICAL_CAPACITY_PER_LANE = 2500. # 3 lanes @ 2500 vehicles / lane / hr\n",
    "# At 60 mph, a 30-mile highway would take 30 minutes\n",
    "FREE_FLOW_TRAVEL_TIME = 30. # minutes\n",
    "ALPHA = 1.5\n",
    "BETA = 4.\n",
    "NUM_LANES = 3.\n",
    "HIGHWAY_LENGTH = 30. # miles \n",
    "VALUE_LOST_DUE_TO_CONGESTION = 12. # $ /hr\n",
    "\n",
    "def get_travel_time(free_flow_travel_time, volume_cars_per_hr, volume_practical_capacity, alpha, beta):\n",
    "    \n",
    "    inner_term = 1 + (alpha * (volume_cars_per_hr / volume_practical_capacity)**beta)\n",
    "    travel_time = free_flow_travel_time * inner_term\n",
    "    \n",
    "    return travel_time"
   ]
  },
  {
   "cell_type": "code",
   "execution_count": 79,
   "id": "7b27cf74",
   "metadata": {},
   "outputs": [],
   "source": [
    "rows = []\n",
    "\n",
    "for volume_cars_per_hr in range(0, 3001):\n",
    "    row = {\n",
    "        \"t\" : get_travel_time(\n",
    "            FREE_FLOW_TRAVEL_TIME, \n",
    "            NUM_LANES * volume_cars_per_hr, \n",
    "            VOLUME_PRACTICAL_CAPACITY_PER_LANE * NUM_LANES, \n",
    "            ALPHA, BETA\n",
    "        ),\n",
    "        \"v\" : NUM_LANES * volume_cars_per_hr,\n",
    "        \"inner_term\" : 1 + (ALPHA * ((NUM_LANES * volume_cars_per_hr) / VOLUME_PRACTICAL_CAPACITY)**BETA),\n",
    "        \"volume_practical_capacity\": VOLUME_PRACTICAL_CAPACITY,\n",
    "        \"volume\" : NUM_LANES * volume_cars_per_hr,\n",
    "        \"free_flow_travel_time\": FREE_FLOW_TRAVEL_TIME\n",
    "    }\n",
    "    \n",
    "    rows.append(row)\n",
    "\n",
    "travel_time_df = pd.DataFrame(rows)\n",
    "travel_time_df[\"veh_per_lane_per_hr\"] = travel_time_df[\"v\"] / NUM_LANES"
   ]
  },
  {
   "cell_type": "code",
   "execution_count": 48,
   "id": "7e0bdc22",
   "metadata": {},
   "outputs": [
    {
     "data": {
      "text/plain": [
       "<AxesSubplot:xlabel='volume (veh / lane / hr)', ylabel='time (minutes)'>"
      ]
     },
     "execution_count": 48,
     "metadata": {},
     "output_type": "execute_result"
    },
    {
     "data": {
      "image/png": "[encoded data removed]",
      "text/plain": [
       "<Figure size 432x288 with 1 Axes>"
      ]
     },
     "metadata": {
      "needs_background": "light"
     },
     "output_type": "display_data"
    }
   ],
   "source": [
    "travel_time_df.plot(\"veh_per_lane_per_hr\", \"t\", \n",
    "    xlabel = \"volume (veh / lane / hr)\", \n",
    "    ylabel =\"time (minutes)\", \n",
    "    ylim=[0, max(travel_time_df[\"t\"]) + .1 * (max(travel_time_df[\"t\"]))], \n",
    "    kind = \"line\"\n",
    ")"
   ]
  },
  {
   "cell_type": "markdown",
   "id": "7b2b3f62",
   "metadata": {},
   "source": [
    "### b) Suppose 2000 cars per lane per hour travel in the morning rush hour for a 2-hour rush period each workday morning. What is their average speed?"
   ]
  },
  {
   "cell_type": "code",
   "execution_count": 80,
   "id": "f2475cb3",
   "metadata": {},
   "outputs": [],
   "source": [
    "NUM_VEHICLES_PER_LANE = 2000.\n",
    "NUM_PEOPLE_PER_VEHICLE = 1.\n",
    "NUM_HOURS_RUSH_HOUR = 2.\n",
    "\n",
    "travel_time_in_minutes = get_travel_time(\n",
    "    FREE_FLOW_TRAVEL_TIME, \n",
    "    NUM_VEHICLES_PER_LANE * NUM_LANES, \n",
    "    VOLUME_PRACTICAL_CAPACITY_PER_LANE * NUM_LANES, \n",
    "    ALPHA, \n",
    "    BETA\n",
    ")"
   ]
  },
  {
   "cell_type": "code",
   "execution_count": 83,
   "id": "6e4aeaf2",
   "metadata": {},
   "outputs": [
    {
     "name": "stdout",
     "output_type": "stream",
     "text": [
      "37.17 mph at average travel time of 48.43 minutes\n"
     ]
    }
   ],
   "source": [
    "average_mph = (60 / travel_time_in_minutes) * HIGHWAY_LENGTH\n",
    "\n",
    "print(\"{:.2f} mph at average travel time of {:.2f} minutes\".format(average_mph, travel_time_in_minutes))"
   ]
  },
  {
   "cell_type": "markdown",
   "id": "455c1fad",
   "metadata": {},
   "source": [
    "### c) What is the value of time lost in one morning compared to the same situation where the same number of cars travel the length of the road in time $ t_0 $?\n",
    "\n",
    "This assumes that value lost due to congestion is $12/hour _per person_"
   ]
  },
  {
   "cell_type": "code",
   "execution_count": 68,
   "id": "82cb5036",
   "metadata": {},
   "outputs": [],
   "source": [
    "additional_travel_time_per_person_mins = travel_time_in_minutes - FREE_FLOW_TRAVEL_TIME\n",
    "additional_travel_time_per_person_hr = additional_travel_time_per_person_mins / 60."
   ]
  },
  {
   "cell_type": "code",
   "execution_count": 77,
   "id": "7a616562",
   "metadata": {},
   "outputs": [
    {
     "name": "stdout",
     "output_type": "stream",
     "text": [
      "Total value of time lost per morning: $3,686.40\n"
     ]
    }
   ],
   "source": [
    "value_of_time_lost = additional_travel_time_per_person_hr \\\n",
    "    * (NUM_LANES * NUM_VEHICLES_PER_LANE * NUM_PEOPLE_PER_VEHICLE) \\\n",
    "    * NUM_HOURS_RUSH_HOUR\n",
    "\n",
    "print(\"Total value of time lost per morning: ${:,.2f}\".format(value_of_time_lost))"
   ]
  },
  {
   "cell_type": "markdown",
   "id": "667f5eaa",
   "metadata": {},
   "source": [
    "### d) The cost of building a highway in an urban setting is about $11 mil per mile. How long would it take to recover those costs in time saved if an extra lane of traffic were built? "
   ]
  },
  {
   "cell_type": "code",
   "execution_count": 81,
   "id": "219d09b6",
   "metadata": {},
   "outputs": [],
   "source": [
    "travel_time_in_minutes_w_addtl_capacity = get_travel_time(\n",
    "    FREE_FLOW_TRAVEL_TIME, \n",
    "    NUM_VEHICLES_PER_LANE * NUM_LANES, \n",
    "    VOLUME_PRACTICAL_CAPACITY_PER_LANE * 4, \n",
    "    ALPHA, \n",
    "    BETA\n",
    ")"
   ]
  },
  {
   "cell_type": "code",
   "execution_count": 86,
   "id": "a2df192d",
   "metadata": {},
   "outputs": [
    {
     "name": "stdout",
     "output_type": "stream",
     "text": [
      "Rush hour travel time without new lane: 48.43\n",
      "Rush hour travel time with new lane: 35.83\n",
      "Number of minutes saved per vehicle with additional lane: 12.60\n"
     ]
    }
   ],
   "source": [
    "print(\"Rush hour travel time without new lane: {:,.2f}\".format(travel_time_in_minutes))\n",
    "print(\"Rush hour travel time with new lane: {:,.2f}\".format(travel_time_in_minutes_w_addtl_capacity))\n",
    "\n",
    "print(\"Number of minutes saved per vehicle with additional lane: {:,.2f}\".format(\n",
    "    travel_time_in_minutes - travel_time_in_minutes_w_addtl_capacity\n",
    "))"
   ]
  },
  {
   "cell_type": "code",
   "execution_count": 93,
   "id": "8a390a1f",
   "metadata": {},
   "outputs": [],
   "source": [
    "num_hours_saved_per_vehicle = (travel_time_in_minutes - travel_time_in_minutes_w_addtl_capacity)  \\\n",
    "    / 60 \\\n",
    "    * NUM_PEOPLE_PER_VEHICLE\n",
    "\n",
    "amount_saved_per_person = num_hours_saved_per_vehicle * VALUE_LOST_DUE_TO_CONGESTION\n",
    "amount_saved_per_person_per_morning = amount_saved_per_person * NUM_HOURS_RUSH_HOUR\n",
    "\n",
    "amount_saved_per_morning = amount_saved_per_person_per_morning \\\n",
    "    * NUM_LANES \\\n",
    "    * NUM_VEHICLES_PER_LANE \\\n",
    "    * NUM_PEOPLE_PER_VEHICLE\n",
    "\n",
    "total_cost_of_additional_lane_in_mm = 11 * HIGHWAY_LENGTH"
   ]
  },
  {
   "cell_type": "code",
   "execution_count": 101,
   "id": "19c95f2c",
   "metadata": {},
   "outputs": [
    {
     "name": "stdout",
     "output_type": "stream",
     "text": [
      "Number of years to recup costs: 29.90\n"
     ]
    }
   ],
   "source": [
    "num_days_to_recup_costs = round((total_cost_of_additional_lane_in_mm * 1000000) / amount_saved_per_morning, 0)\n",
    "\n",
    "print(\"Number of years to recup costs: {:,.2f}\".format(num_days_to_recup_costs / 365))"
   ]
  },
  {
   "cell_type": "markdown",
   "id": "6347a8c5",
   "metadata": {},
   "source": [
    "# Vehicle Load Equation and Fuel Demand\n",
    "2) A MATLAB script file (ENGY502_vehicle_drivecalcs_F2021.m) and an MS Excel file (ENGY502_vehicle_drivecalcs_F2021.xslx) provide a means for calculating the transient load and rate of fuel consumption for a ground vehicle for a given drive-cycle. The load $ W_{veh} $ and the rate of fuel energy consumed $ \\frac {dE_{fuel}} {dt} $  (shown in equation 1) are integrated\n",
    "\n",
    "$ \\frac {dE_{fuel}} {dt} = \\frac {1} {\\eta_{tr}} \\Bigg( \\Bigg[ m_{veh} \\Bigg(max(0, \\frac {dv_{veh}} {dt}) + C_{roll} g \\cos (\\alpha_{road}) + g \\sin(\\alpha_{road})\\Bigg) + \\frac {\\rho_air C_{drag} A_{veh} (v_{veh} - v_{air})^2} {2} \\Bigg] + \\frac {W_{acc}} {\\eta_{elec}}$ \n",
    "\n",
    "Drive-train efficiency $\\eta_{tr}(t) $ can vary with time due to changes in engine efficiency with power and RPM. This will identify power plant demands and fuel consumption $ \\Delta E_{fuel} $ for various drive cycles.\n",
    "\n",
    "Consider a Subaru Outback ($ m_{veh} = 1700 kg, A_{veh}=2.56 m^2, C_{drag} = 0.37, C_{roll} = 0.11, W_{acc} = 0.5 kW $) for this problem going through various drive cycles including the FTP-75 and HWFET drive cycles. Assuming the following simple relationship works for calculating the instantaneous $ \\eta_{tr} $\n",
    "\n",
    "$ \\eta_{tr} = \\alpha \\Bigg[ \\exp \\Bigg(- \\frac {W_{veh}} {W_{1}}\\Bigg) - \\exp \\Bigg(- \\frac {W_{veh}} {W_{2}}\\Bigg)\\Bigg] $ where $ W_{veh} $ is in kW. \n",
    "\n",
    "For this problem, we will assume $ a = 0.4, W_{1} = 200 kW, W_{2} = 17 kW $"
   ]
  },
  {
   "cell_type": "code",
   "execution_count": 104,
   "id": "800dafd9",
   "metadata": {},
   "outputs": [],
   "source": [
    "ALPHA = 0.4\n",
    "W_1 = 200 # kW. What does W_1 represent?\n",
    "W_2 = 17  # kW. What does W_2 represent?"
   ]
  },
  {
   "cell_type": "markdown",
   "id": "06de3024",
   "metadata": {},
   "source": [
    "### a) Given the data above, make a plot of fuel economy in mpg for a Subaru Outback as a function of constant vehicle speeds from 10 to 100 mph. Consider how a luggage rack adds 80 kg of mass and drag resistance. Also consider how snow tires increase rolling resistance. Using references to estimate the effects of a luggage rack and snow tires, overlay your plots of fuel economy vs. vehicle speed for an Outback with a rack, with snow tires, and with both.\n",
    "\n",
    "**Assumption**: Horizontal Road surface. Not uphill / downhill <br/>\n",
    "**Assumption**: Air density equals 1.225 <br/>\n",
    "**Assumption**: Wind velocity is 0"
   ]
  },
  {
   "cell_type": "code",
   "execution_count": 258,
   "id": "25897e9c",
   "metadata": {},
   "outputs": [],
   "source": [
    "MASS_OF_VEHICLE_KEY = \"mass\"\n",
    "DRAG_COEFFICIENT_KEY = \"drag_coefficient\"\n",
    "FRONTAL_AREA_OF_VEHICLE_KEY = \"area_vehicle\"\n",
    "ROLLING_RESISTANCE_KEY = \"rolling_resistance\"\n",
    "ACCESSORY_POWER_DEMAND_KEY = \"accessory_power_demand\"\n",
    "ENGINE_EFFICIENCY_ALPHA_CONSTANT_KEY = \"eta_alpha_constant\"\n",
    "ENGINE_EFFICIENCY_WORK_CONSTANT_1_KEY = \"eta_w1_constant\"\n",
    "ENGINE_EFFICIENCY_WORK_CONSTANT_2_KEY = \"eta_w2_constant\"\n",
    "\n",
    "\n",
    "GRAVITATIONAL_CONSTANT = 9.81 # m/s^2\n",
    "ANGLE_OF_ROAD = 0 # degrees\n",
    "AIR_DENSITY = 1.149 # kg / m^3\n",
    "AIR_VELOCITY = 0 # m / s\n",
    "\n",
    "subaru_config = {\n",
    "    MASS_OF_VEHICLE_KEY : 1700, # kg\n",
    "    FRONTAL_AREA_OF_VEHICLE_KEY : 2.56, #m^2\n",
    "    DRAG_COEFFICIENT_KEY : 0.37, # unitless\n",
    "    ROLLING_RESISTANCE_KEY : 0.11, # unitless\n",
    "    ACCESSORY_POWER_DEMAND_KEY : 0.5, #kW\n",
    "    ENGINE_EFFICIENCY_ALPHA_CONSTANT_KEY: 0.4,\n",
    "    ENGINE_EFFICIENCY_WORK_CONSTANT_1_KEY: 200.,\n",
    "    ENGINE_EFFICIENCY_WORK_CONSTANT_2_KEY: 17.,\n",
    "}\n",
    "\n",
    "def get_instantaneous_drivetrain_efficiency(alpha, work_vehicle, w_1, w_2):\n",
    "    # what does w_1 and w_2 represent?\n",
    "    \n",
    "    inner_term_one = math.exp( - (work_vehicle / w_1))\n",
    "    inner_term_two = math.exp( - (work_vehicle / w_2))\n",
    "    \n",
    "    inner_term = inner_term_one - inner_term_two\n",
    "    \n",
    "    return alpha * inner_term\n",
    "\n",
    "def get_m_per_s_from_mph(mph):\n",
    "    \n",
    "    return mph * 1609.344 / 3600\n",
    "\n",
    "def get_denominator(unit):\n",
    "    \n",
    "    valid_units = [\"kW\", \"W\"]\n",
    "    if unit not in valid_units:\n",
    "        raise ValueError(\"Unit to return ({}) not one of valid options: {}\".format(unit, valid_units))\n",
    "    \n",
    "    denominator = 1. if unit == \"W\" else 1000.\n",
    "    \n",
    "    return denominator"
   ]
  },
  {
   "cell_type": "code",
   "execution_count": 145,
   "id": "704b7b37",
   "metadata": {},
   "outputs": [],
   "source": [
    "def get_power_demand_drag(drag_coefficient, frontal_area_of_vehicle, air_density, vehicle_velocity_m_per_s, air_velocity, unit = \"W\"):\n",
    "    \"\"\"\n",
    "    Gets power demand of vehicle due to vehicle drag\n",
    "    \n",
    "    get_power_demand_drag(0.33, 2.2, 1.149, get_m_per_s_from_mph(3.), 0, \"kW\") = 0.001006\n",
    "    \"\"\"\n",
    "    \n",
    "    valid_units = [\"kW\", \"W\"]\n",
    "    if unit not in valid_units:\n",
    "        raise ValueError(\"Unit to return ({}) not one of valid options: {}\".format(unit, valid_units))\n",
    "    \n",
    "    denominator = 1. if unit == \"W\" else 1000.\n",
    "    return (\n",
    "        drag_coefficient \\\n",
    "        * frontal_area_of_vehicle \\\n",
    "        * (air_density / 2) \\\n",
    "        * (vehicle_velocity_m_per_s - air_velocity)**2\n",
    "        ) \\\n",
    "        * vehicle_velocity_m_per_s  \\\n",
    "    / denominator"
   ]
  },
  {
   "cell_type": "code",
   "execution_count": 146,
   "id": "ff83ca80",
   "metadata": {},
   "outputs": [
    {
     "data": {
      "text/plain": [
       "0.0010060731788353794"
      ]
     },
     "execution_count": 146,
     "metadata": {},
     "output_type": "execute_result"
    }
   ],
   "source": [
    "get_power_demand_drag(0.33, 2.2, 1.149, get_m_per_s_from_mph(3.), 0, \"kW\")"
   ]
  },
  {
   "cell_type": "code",
   "execution_count": 147,
   "id": "253e3181",
   "metadata": {},
   "outputs": [],
   "source": [
    "def get_power_demand_roll(rolling_resistance_coefficient, vehicle_mass_kg, gravitational_constant, vehicle_velocity_m_per_s, unit = \"W\"):\n",
    "    \"\"\"\n",
    "    Gets power demand of vehicle due to rolling resistance \n",
    "    \n",
    "    get_power_demand_roll(0.009, 3000., GRAVITATIONAL_CONSTANT, get_m_per_s_from_mph(8.6), \"kW\") = 1.0183\n",
    "    \"\"\"\n",
    "    valid_units = [\"kW\", \"W\"]\n",
    "    if unit not in valid_units:\n",
    "        raise ValueError(\"Unit to return ({}) not one of valid options: {}\".format(unit, valid_units))\n",
    "    \n",
    "    denominator = 1. if unit == \"W\" else 1000.\n",
    "    \n",
    "    return (\n",
    "        vehicle_mass_kg \\\n",
    "        * rolling_resistance_coefficient \\\n",
    "        * gravitational_constant \\\n",
    "        * vehicle_velocity_m_per_s\n",
    "    ) / denominator"
   ]
  },
  {
   "cell_type": "code",
   "execution_count": 154,
   "id": "904dddca",
   "metadata": {},
   "outputs": [],
   "source": [
    "def get_power_demand_acceleration(vehicle_mass_kg, vehicle_velocity_m_per_s, vehicle_acceleration_m_per_s, unit = \"W\"):\n",
    "    \n",
    "    denominator = get_denominator(unit)\n",
    "    return (\n",
    "        vehicle_mass_kg \\\n",
    "        * vehicle_acceleration_m_per_s \\\n",
    "        * vehicle_velocity_m_per_s\n",
    "    ) / denominator"
   ]
  },
  {
   "cell_type": "code",
   "execution_count": 157,
   "id": "b94dfc80",
   "metadata": {},
   "outputs": [
    {
     "data": {
      "text/plain": [
       "5.3958085632"
      ]
     },
     "execution_count": 157,
     "metadata": {},
     "output_type": "execute_result"
    }
   ],
   "source": [
    "get_power_demand_acceleration(3000, get_m_per_s_from_mph(3.0), get_m_per_s_from_mph(3.0), \"kW\")"
   ]
  },
  {
   "cell_type": "code",
   "execution_count": 320,
   "id": "db2bd407",
   "metadata": {},
   "outputs": [],
   "source": [
    "def get_braking_force_n(\n",
    "    drag_coefficient, \n",
    "    rolling_resistance_coefficient,\n",
    "    vehicle_mass_kg, \n",
    "    frontal_area_of_vehicle, \n",
    "    gravitational_constant,\n",
    "    air_density, \n",
    "    air_velocity, \n",
    "    velocity_vehicle_m_per_s, \n",
    "    acceleration_vehicle_m_per_s,\n",
    "):\n",
    "    \"\"\"\n",
    "    get_braking_force_n(\n",
    "        drag_coefficient=0.33,\n",
    "        rolling_resistance_coefficient=0.009,\n",
    "        vehicle_mass_kg=3000,\n",
    "        frontal_area_of_vehicle=2.2,\n",
    "        gravitational_constant=GRAVITATIONAL_CONSTANT,\n",
    "        air_density=1.149,\n",
    "        air_velocity=0,\n",
    "        velocity_vehicle_m_per_s=9.61,\n",
    "        acceleration_vehicle_m_per_s=-0.268224\n",
    "    ) = 578.3208\n",
    "    \"\"\"\n",
    "    braking_term_one = (\n",
    "        drag_coefficient \\\n",
    "        * frontal_area_of_vehicle \\\n",
    "        / 2.\n",
    "    )\n",
    "    \n",
    "    braking_term_two = (\n",
    "        air_density \\\n",
    "        * (velocity_vehicle_m_per_s - air_velocity) ** 2\n",
    "    )\n",
    "    \n",
    "    braking_term_three = (\n",
    "        vehicle_mass_kg \\\n",
    "        * (rolling_resistance_coefficient * gravitational_constant + acceleration_vehicle_m_per_s)\n",
    "    )\n",
    "    \n",
    "    \n",
    "    return max(0, (braking_term_one * braking_term_two) - braking_term_three)"
   ]
  },
  {
   "cell_type": "code",
   "execution_count": 321,
   "id": "30261504",
   "metadata": {},
   "outputs": [
    {
     "data": {
      "text/plain": [
       "578.3208603327001"
      ]
     },
     "execution_count": 321,
     "metadata": {},
     "output_type": "execute_result"
    }
   ],
   "source": [
    "get_braking_force_n(\n",
    "        drag_coefficient=0.33,\n",
    "        rolling_resistance_coefficient=0.009,\n",
    "        vehicle_mass_kg=3000,\n",
    "        frontal_area_of_vehicle=2.2,\n",
    "        gravitational_constant=GRAVITATIONAL_CONSTANT,\n",
    "        air_density=1.149,\n",
    "        air_velocity=0,\n",
    "        velocity_vehicle_m_per_s=9.61,\n",
    "        acceleration_vehicle_m_per_s=-0.268224\n",
    "    )"
   ]
  },
  {
   "cell_type": "code",
   "execution_count": 322,
   "id": "a9675188",
   "metadata": {},
   "outputs": [],
   "source": [
    "DATA_DIR_BASE = os.path.join(\n",
    "    os.path.dirname(os.path.realpath(\"__file__\")),\n",
    "    \"data\",\n",
    "    \"hw2\"\n",
    ")\n",
    "\n",
    "RAW_DATA_DIR = os.path.join(\n",
    "    DATA_DIR_BASE,\n",
    "    \"raw\"\n",
    ")\n",
    "\n",
    "cycle_df = pd.read_csv(os.path.join(RAW_DATA_DIR, \"ftp_75.csv\"))\n"
   ]
  },
  {
   "cell_type": "code",
   "execution_count": null,
   "id": "125dfede",
   "metadata": {},
   "outputs": [],
   "source": []
  },
  {
   "cell_type": "code",
   "execution_count": 323,
   "id": "220e0505",
   "metadata": {},
   "outputs": [
    {
     "data": {
      "text/html": [
       "<div>\n",
       "<style scoped>\n",
       "    .dataframe tbody tr th:only-of-type {\n",
       "        vertical-align: middle;\n",
       "    }\n",
       "\n",
       "    .dataframe tbody tr th {\n",
       "        vertical-align: top;\n",
       "    }\n",
       "\n",
       "    .dataframe thead th {\n",
       "        text-align: right;\n",
       "    }\n",
       "</style>\n",
       "<table border=\"1\" class=\"dataframe\">\n",
       "  <thead>\n",
       "    <tr style=\"text-align: right;\">\n",
       "      <th></th>\n",
       "      <th>time_s</th>\n",
       "      <th>v_mph</th>\n",
       "    </tr>\n",
       "  </thead>\n",
       "  <tbody>\n",
       "    <tr>\n",
       "      <th>0</th>\n",
       "      <td>0</td>\n",
       "      <td>0.0</td>\n",
       "    </tr>\n",
       "    <tr>\n",
       "      <th>1</th>\n",
       "      <td>1</td>\n",
       "      <td>0.0</td>\n",
       "    </tr>\n",
       "    <tr>\n",
       "      <th>2</th>\n",
       "      <td>2</td>\n",
       "      <td>0.0</td>\n",
       "    </tr>\n",
       "    <tr>\n",
       "      <th>3</th>\n",
       "      <td>3</td>\n",
       "      <td>0.0</td>\n",
       "    </tr>\n",
       "    <tr>\n",
       "      <th>4</th>\n",
       "      <td>4</td>\n",
       "      <td>0.0</td>\n",
       "    </tr>\n",
       "    <tr>\n",
       "      <th>...</th>\n",
       "      <td>...</td>\n",
       "      <td>...</td>\n",
       "    </tr>\n",
       "    <tr>\n",
       "      <th>1870</th>\n",
       "      <td>1870</td>\n",
       "      <td>10.3</td>\n",
       "    </tr>\n",
       "    <tr>\n",
       "      <th>1871</th>\n",
       "      <td>1871</td>\n",
       "      <td>7.2</td>\n",
       "    </tr>\n",
       "    <tr>\n",
       "      <th>1872</th>\n",
       "      <td>1872</td>\n",
       "      <td>4.0</td>\n",
       "    </tr>\n",
       "    <tr>\n",
       "      <th>1873</th>\n",
       "      <td>1873</td>\n",
       "      <td>1.0</td>\n",
       "    </tr>\n",
       "    <tr>\n",
       "      <th>1874</th>\n",
       "      <td>1874</td>\n",
       "      <td>0.0</td>\n",
       "    </tr>\n",
       "  </tbody>\n",
       "</table>\n",
       "<p>1875 rows × 2 columns</p>\n",
       "</div>"
      ],
      "text/plain": [
       "      time_s  v_mph\n",
       "0          0    0.0\n",
       "1          1    0.0\n",
       "2          2    0.0\n",
       "3          3    0.0\n",
       "4          4    0.0\n",
       "...      ...    ...\n",
       "1870    1870   10.3\n",
       "1871    1871    7.2\n",
       "1872    1872    4.0\n",
       "1873    1873    1.0\n",
       "1874    1874    0.0\n",
       "\n",
       "[1875 rows x 2 columns]"
      ]
     },
     "execution_count": 323,
     "metadata": {},
     "output_type": "execute_result"
    }
   ],
   "source": [
    "cycle_df"
   ]
  },
  {
   "cell_type": "code",
   "execution_count": 331,
   "id": "cc8fd222",
   "metadata": {},
   "outputs": [],
   "source": [
    "TIME_COLNAME = \"time_s\"\n",
    "VELOCITY_VEHICLE_MPH_COLNAME = \"v_mph\"\n",
    "VELOCITY_VEHICLE_M_PER_S_COLNAME = \"v_veh_m_per_s\"\n",
    "ACCELERATION_M_PER_S_COLNAME = \"accel_m_per_s\"\n",
    "DELTA_DISTANCE_KM_COLNAME = \"delta_distance_km\"\n",
    "TOTAL_DISTANCE_KM_COLNAME = \"total_distance_km\"\n",
    "POWER_DEMAND_BRAKING_COLNAME = \"brake_force_n\"\n",
    "POWER_DEMAND_DRAG_COLNAME = \"power_demand_drag_kw\"\n",
    "POWER_DEMAND_ROLL_COLNAME = \"power_demand_rolling_resistance_kw\"\n",
    "POWER_DEMAND_ACCEL_COLNAME = \"power_demand_acceleration_kw\"\n",
    "POWER_DEMAND_TOTAL_COLNAME = \"power_demand_vehicle_kw\"\n",
    "POWER_DEMAND_ACCESSORIES_COLNAME = \"power_demand_accessories_kw\"\n",
    "TOTAL_VEHICLE_ENERGY_COLNAME = \"total_vehicle_energy_mj\"\n",
    "AVG_ENERGY_VEHICLE_PER_VKT_COLNAME = \"average_e_veh_over_vkt_mj_per_km\""
   ]
  },
  {
   "cell_type": "code",
   "execution_count": 359,
   "id": "4d74a3f0",
   "metadata": {},
   "outputs": [
    {
     "ename": "NameError",
     "evalue": "name 'ENGINE_EFFICIENCY_ALPHA_CONSTANT_KEY' is not defined",
     "output_type": "error",
     "traceback": [
      "\u001b[0;31m---------------------------------------------------------------------------\u001b[0m",
      "\u001b[0;31mNameError\u001b[0m                                 Traceback (most recent call last)",
      "\u001b[0;32m/var/folders/96/v69ct1597978t9sjzmlk4cb00000gn/T/ipykernel_906/717633368.py\u001b[0m in \u001b[0;36m<module>\u001b[0;34m\u001b[0m\n\u001b[1;32m      7\u001b[0m     \u001b[0mROLLING_RESISTANCE_KEY\u001b[0m \u001b[0;34m:\u001b[0m \u001b[0;36m0.009\u001b[0m\u001b[0;34m,\u001b[0m \u001b[0;31m# unitless\u001b[0m\u001b[0;34m\u001b[0m\u001b[0;34m\u001b[0m\u001b[0m\n\u001b[1;32m      8\u001b[0m     \u001b[0mACCESSORY_POWER_DEMAND_KEY\u001b[0m \u001b[0;34m:\u001b[0m \u001b[0;36m0.6\u001b[0m\u001b[0;34m/\u001b[0m\u001b[0;36m0.7\u001b[0m\u001b[0;34m,\u001b[0m \u001b[0;31m#kW\u001b[0m\u001b[0;34m\u001b[0m\u001b[0;34m\u001b[0m\u001b[0m\n\u001b[0;32m----> 9\u001b[0;31m     \u001b[0mENGINE_EFFICIENCY_ALPHA_CONSTANT_KEY\u001b[0m\u001b[0;34m:\u001b[0m \u001b[0;36m0.2\u001b[0m\u001b[0;34m,\u001b[0m\u001b[0;34m\u001b[0m\u001b[0;34m\u001b[0m\u001b[0m\n\u001b[0m\u001b[1;32m     10\u001b[0m     \u001b[0mENGINE_EFFICIENCY_WORK_CONSTANT_1_KEY\u001b[0m\u001b[0;34m:\u001b[0m \u001b[0;36m10000000.\u001b[0m\u001b[0;34m,\u001b[0m\u001b[0;34m\u001b[0m\u001b[0;34m\u001b[0m\u001b[0m\n\u001b[1;32m     11\u001b[0m     \u001b[0mENGINE_EFFICIENCY_WORK_CONSTANT_2_KEY\u001b[0m\u001b[0;34m:\u001b[0m \u001b[0;36m10.\u001b[0m\u001b[0;34m,\u001b[0m\u001b[0;34m\u001b[0m\u001b[0;34m\u001b[0m\u001b[0m\n",
      "\u001b[0;31mNameError\u001b[0m: name 'ENGINE_EFFICIENCY_ALPHA_CONSTANT_KEY' is not defined"
     ]
    }
   ],
   "source": [
    "#vehicle_config = subaru_config\n",
    "\n",
    "vehicle_config = {\n",
    "    MASS_OF_VEHICLE_KEY : 3000, # kg\n",
    "    FRONTAL_AREA_OF_VEHICLE_KEY : 2.2, #m^2\n",
    "    DRAG_COEFFICIENT_KEY : 0.33, # unitless\n",
    "    ROLLING_RESISTANCE_KEY : 0.009, # unitless\n",
    "    ACCESSORY_POWER_DEMAND_KEY : 0.6/0.7, #kW\n",
    "    ENGINE_EFFICIENCY_ALPHA_CONSTANT_KEY: 0.2,\n",
    "    ENGINE_EFFICIENCY_WORK_CONSTANT_1_KEY: 10000000.,\n",
    "    ENGINE_EFFICIENCY_WORK_CONSTANT_2_KEY: 10.,\n",
    "}\n",
    "\n",
    "cycle_df[VELOCITY_VEHICLE_M_PER_S_COLNAME] = cycle_df.apply(\n",
    "    lambda x: get_m_per_s_from_mph(x[VELOCITY_VEHICLE_MPH_COLNAME]),\n",
    "    axis = 1\n",
    ")\n",
    "\n",
    "acceleration_array = []\n",
    "delta_distance_km_array = []\n",
    "total_distance_km_array = []\n",
    "\n",
    "for idx, row in cycle_df.iterrows():\n",
    "    \n",
    "    if idx == 0:\n",
    "        acceleration = 0\n",
    "        delta_distance_km = 0\n",
    "        total_distance_km = 0\n",
    "        \n",
    "    else:\n",
    "        acceleration = cycle_df.iloc[idx][VELOCITY_VEHICLE_M_PER_S_COLNAME] - cycle_df.iloc[idx - 1][VELOCITY_VEHICLE_M_PER_S_COLNAME] \n",
    "        delta_distance_km = ((\n",
    "            cycle_df.iloc[idx][VELOCITY_VEHICLE_M_PER_S_COLNAME] \\\n",
    "            + cycle_df.iloc[idx - 1][VELOCITY_VEHICLE_M_PER_S_COLNAME] \n",
    "            ) / 2 \\\n",
    "            * (cycle_df.iloc[idx][TIME_COLNAME] - cycle_df.iloc[idx - 1][TIME_COLNAME])\n",
    "            ) / 1000\n",
    "        \n",
    "    acceleration_array.append(acceleration)\n",
    "    delta_distance_km_array.append(delta_distance_km)\n",
    "  \n",
    "cycle_df[ACCELERATION_M_PER_S_COLNAME] = acceleration_array\n",
    "cycle_df[DELTA_DISTANCE_KM_COLNAME] = delta_distance_km_array\n",
    "\n",
    "for idx, row in cycle_df.iterrows():\n",
    "    \n",
    "#     if idx == 0:\n",
    "#         total_distance_km = 0\n",
    "        \n",
    "#     else:\n",
    "#         total_distance_km = sum(cycle_df[0:idx][DELTA_DISTANCE_KM_COLNAME])\n",
    "    \n",
    "    total_distance_km_array.append(sum(cycle_df[0:idx][DELTA_DISTANCE_KM_COLNAME]) + row[DELTA_DISTANCE_KM_COLNAME])\n",
    "\n",
    "cycle_df[TOTAL_DISTANCE_KM_COLNAME] = total_distance_km_array\n",
    "    "
   ]
  },
  {
   "cell_type": "code",
   "execution_count": 360,
   "id": "2221c36f",
   "metadata": {},
   "outputs": [],
   "source": [
    "cycle_df[POWER_DEMAND_BRAKING_COLNAME] = cycle_df.apply(\n",
    "    lambda x: get_braking_force_n(\n",
    "        drag_coefficient= vehicle_config[DRAG_COEFFICIENT_KEY],\n",
    "        rolling_resistance_coefficient= vehicle_config[ROLLING_RESISTANCE_KEY],\n",
    "        vehicle_mass_kg= vehicle_config[MASS_OF_VEHICLE_KEY],\n",
    "        frontal_area_of_vehicle= vehicle_config[FRONTAL_AREA_OF_VEHICLE_KEY],\n",
    "        gravitational_constant=GRAVITATIONAL_CONSTANT,\n",
    "        air_density=AIR_DENSITY,\n",
    "        air_velocity=AIR_VELOCITY,\n",
    "        velocity_vehicle_m_per_s=x[VELOCITY_VEHICLE_M_PER_S_COLNAME],\n",
    "        acceleration_vehicle_m_per_s=x[ACCELERATION_M_PER_S_COLNAME]\n",
    "    ),\n",
    "    axis = 1\n",
    ")\n",
    "\n",
    "cycle_df[POWER_DEMAND_DRAG_COLNAME] = cycle_df.apply(\n",
    "    lambda x: 0 if x[POWER_DEMAND_BRAKING_COLNAME] > 0 else get_power_demand_drag(\n",
    "        drag_coefficient = vehicle_config[DRAG_COEFFICIENT_KEY],\n",
    "        frontal_area_of_vehicle = vehicle_config[FRONTAL_AREA_OF_VEHICLE_KEY],\n",
    "        air_density=AIR_DENSITY,\n",
    "        vehicle_velocity_m_per_s= x[VELOCITY_VEHICLE_M_PER_S_COLNAME],\n",
    "        air_velocity= AIR_VELOCITY,\n",
    "        unit = \"kW\"\n",
    "    ),\n",
    "    axis=1\n",
    ")\n",
    "\n",
    "cycle_df[POWER_DEMAND_ROLL_COLNAME] = cycle_df.apply(\n",
    "    lambda x: 0 if x[POWER_DEMAND_BRAKING_COLNAME] > 0 else get_power_demand_roll(\n",
    "        rolling_resistance_coefficient= vehicle_config[ROLLING_RESISTANCE_KEY],\n",
    "        vehicle_mass_kg= vehicle_config[MASS_OF_VEHICLE_KEY],\n",
    "        gravitational_constant= GRAVITATIONAL_CONSTANT,\n",
    "        vehicle_velocity_m_per_s= x[VELOCITY_VEHICLE_M_PER_S_COLNAME],\n",
    "        unit = \"kW\"\n",
    "    ),\n",
    "    axis = 1\n",
    ")\n",
    "\n",
    "cycle_df[POWER_DEMAND_ACCEL_COLNAME] = cycle_df.apply(\n",
    "    lambda x: 0 if x[POWER_DEMAND_BRAKING_COLNAME] > 0 else get_power_demand_acceleration(\n",
    "        vehicle_mass_kg= vehicle_config[MASS_OF_VEHICLE_KEY],\n",
    "        vehicle_velocity_m_per_s= x[VELOCITY_VEHICLE_M_PER_S_COLNAME],\n",
    "        vehicle_acceleration_m_per_s= x[ACCELERATION_M_PER_S_COLNAME],\n",
    "        unit = \"kW\"\n",
    "    ),\n",
    "    axis = 1\n",
    ")\n",
    "\n",
    "cycle_df[POWER_DEMAND_ACCESSORIES_COLNAME] = vehicle_config[ACCESSORY_POWER_DEMAND_KEY]\n",
    "\n",
    "cycle_df[POWER_DEMAND_TOTAL_COLNAME] = cycle_df[POWER_DEMAND_ACCEL_COLNAME] \\\n",
    "    + cycle_df[POWER_DEMAND_ACCESSORIES_COLNAME] \\\n",
    "    + cycle_df[POWER_DEMAND_DRAG_COLNAME] \\\n",
    "    + cycle_df[POWER_DEMAND_ROLL_COLNAME]"
   ]
  },
  {
   "cell_type": "code",
   "execution_count": 361,
   "id": "08fa4c74",
   "metadata": {},
   "outputs": [],
   "source": [
    "cumulative_energy_mj = 0\n",
    "cumulative_energy_array = []\n",
    "\n",
    "for idx, row in cycle_df.iterrows():\n",
    "    if idx == 0:\n",
    "        cumulative_energy_array.append(0)\n",
    "        continue\n",
    "    \n",
    "    time_diff = cycle_df.iloc[idx][TIME_COLNAME] - cycle_df.iloc[idx - 1][TIME_COLNAME] \n",
    "    power_demand_sum = cycle_df.iloc[idx][POWER_DEMAND_TOTAL_COLNAME] + cycle_df.iloc[idx - 1][POWER_DEMAND_TOTAL_COLNAME]\n",
    "    addtl_energy = time_diff * power_demand_sum / 2000\n",
    "    \n",
    "    cumulative_energy_mj += addtl_energy\n",
    "    cumulative_energy_array.append(cumulative_energy_mj)\n",
    "\n",
    "cycle_df[TOTAL_VEHICLE_ENERGY_COLNAME] = cumulative_energy_array\n",
    "\n",
    "cycle_df[AVG_ENERGY_VEHICLE_PER_VKT_COLNAME] = cycle_df.apply(\n",
    "    lambda x: x[TOTAL_VEHICLE_ENERGY_COLNAME] / x[TOTAL_DISTANCE_KM_COLNAME] if x[TOTAL_DISTANCE_KM_COLNAME] > 0 else 0,\n",
    "    axis = 1\n",
    ")"
   ]
  },
  {
   "cell_type": "code",
   "execution_count": 275,
   "id": "b2856500",
   "metadata": {},
   "outputs": [
    {
     "data": {
      "text/html": [
       "<div>\n",
       "<style scoped>\n",
       "    .dataframe tbody tr th:only-of-type {\n",
       "        vertical-align: middle;\n",
       "    }\n",
       "\n",
       "    .dataframe tbody tr th {\n",
       "        vertical-align: top;\n",
       "    }\n",
       "\n",
       "    .dataframe thead th {\n",
       "        text-align: right;\n",
       "    }\n",
       "</style>\n",
       "<table border=\"1\" class=\"dataframe\">\n",
       "  <thead>\n",
       "    <tr style=\"text-align: right;\">\n",
       "      <th></th>\n",
       "      <th>time_s</th>\n",
       "      <th>v_mph</th>\n",
       "      <th>v_veh_m_per_s</th>\n",
       "      <th>accel_m_per_s</th>\n",
       "      <th>delta_distance_km</th>\n",
       "      <th>total_distance_km</th>\n",
       "      <th>brake_force_n</th>\n",
       "    </tr>\n",
       "  </thead>\n",
       "  <tbody>\n",
       "    <tr>\n",
       "      <th>30</th>\n",
       "      <td>30</td>\n",
       "      <td>21.7</td>\n",
       "      <td>9.700768</td>\n",
       "      <td>0.447040</td>\n",
       "      <td>0.009477</td>\n",
       "      <td>0.047587</td>\n",
       "      <td>0.000000</td>\n",
       "    </tr>\n",
       "    <tr>\n",
       "      <th>31</th>\n",
       "      <td>31</td>\n",
       "      <td>22.4</td>\n",
       "      <td>10.013696</td>\n",
       "      <td>0.312928</td>\n",
       "      <td>0.009857</td>\n",
       "      <td>0.057065</td>\n",
       "      <td>0.000000</td>\n",
       "    </tr>\n",
       "    <tr>\n",
       "      <th>32</th>\n",
       "      <td>32</td>\n",
       "      <td>22.5</td>\n",
       "      <td>10.058400</td>\n",
       "      <td>0.044704</td>\n",
       "      <td>0.010036</td>\n",
       "      <td>0.066922</td>\n",
       "      <td>0.000000</td>\n",
       "    </tr>\n",
       "    <tr>\n",
       "      <th>33</th>\n",
       "      <td>33</td>\n",
       "      <td>22.1</td>\n",
       "      <td>9.879584</td>\n",
       "      <td>-0.178816</td>\n",
       "      <td>0.009969</td>\n",
       "      <td>0.076958</td>\n",
       "      <td>312.288269</td>\n",
       "    </tr>\n",
       "    <tr>\n",
       "      <th>34</th>\n",
       "      <td>34</td>\n",
       "      <td>21.5</td>\n",
       "      <td>9.611360</td>\n",
       "      <td>-0.268224</td>\n",
       "      <td>0.009745</td>\n",
       "      <td>0.086927</td>\n",
       "      <td>578.331763</td>\n",
       "    </tr>\n",
       "    <tr>\n",
       "      <th>35</th>\n",
       "      <td>35</td>\n",
       "      <td>20.9</td>\n",
       "      <td>9.343136</td>\n",
       "      <td>-0.268224</td>\n",
       "      <td>0.009477</td>\n",
       "      <td>0.096672</td>\n",
       "      <td>576.211272</td>\n",
       "    </tr>\n",
       "    <tr>\n",
       "      <th>36</th>\n",
       "      <td>36</td>\n",
       "      <td>20.4</td>\n",
       "      <td>9.119616</td>\n",
       "      <td>-0.223520</td>\n",
       "      <td>0.009231</td>\n",
       "      <td>0.106150</td>\n",
       "      <td>440.378040</td>\n",
       "    </tr>\n",
       "    <tr>\n",
       "      <th>37</th>\n",
       "      <td>37</td>\n",
       "      <td>19.8</td>\n",
       "      <td>8.851392</td>\n",
       "      <td>-0.268224</td>\n",
       "      <td>0.008986</td>\n",
       "      <td>0.115381</td>\n",
       "      <td>572.479574</td>\n",
       "    </tr>\n",
       "  </tbody>\n",
       "</table>\n",
       "</div>"
      ],
      "text/plain": [
       "    time_s  v_mph  v_veh_m_per_s  accel_m_per_s  delta_distance_km  \\\n",
       "30      30   21.7       9.700768       0.447040           0.009477   \n",
       "31      31   22.4      10.013696       0.312928           0.009857   \n",
       "32      32   22.5      10.058400       0.044704           0.010036   \n",
       "33      33   22.1       9.879584      -0.178816           0.009969   \n",
       "34      34   21.5       9.611360      -0.268224           0.009745   \n",
       "35      35   20.9       9.343136      -0.268224           0.009477   \n",
       "36      36   20.4       9.119616      -0.223520           0.009231   \n",
       "37      37   19.8       8.851392      -0.268224           0.008986   \n",
       "\n",
       "    total_distance_km  brake_force_n  \n",
       "30           0.047587       0.000000  \n",
       "31           0.057065       0.000000  \n",
       "32           0.066922       0.000000  \n",
       "33           0.076958     312.288269  \n",
       "34           0.086927     578.331763  \n",
       "35           0.096672     576.211272  \n",
       "36           0.106150     440.378040  \n",
       "37           0.115381     572.479574  "
      ]
     },
     "execution_count": 275,
     "metadata": {},
     "output_type": "execute_result"
    }
   ],
   "source": [
    "cycle_df[30:38]"
   ]
  },
  {
   "cell_type": "code",
   "execution_count": null,
   "id": "f1b7768c",
   "metadata": {},
   "outputs": [],
   "source": []
  }
 ],
 "metadata": {
  "kernelspec": {
   "display_name": "Python 3 (ipykernel)",
   "language": "python",
   "name": "python3"
  },
  "language_info": {
   "codemirror_mode": {
    "name": "ipython",
    "version": 3
   },
   "file_extension": ".py",
   "mimetype": "text/x-python",
   "name": "python",
   "nbconvert_exporter": "python",
   "pygments_lexer": "ipython3",
   "version": "3.9.1"
  }
 },
 "nbformat": 4,
 "nbformat_minor": 5
}
