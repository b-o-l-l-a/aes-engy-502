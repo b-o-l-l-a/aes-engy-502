{
 "cells": [
  {
   "cell_type": "markdown",
   "id": "55471880",
   "metadata": {},
   "source": [
    "# Transportation Operations and Solutions Question\n",
    "1) The Bureau of Public Roads flow curve, or \"BPR Curve\", relates traffic density to vehicle speed, similar to the speed/flow/density models presented in Chapter 7 in Vanek et al. **Sustainable Transportation Engineering**. The BPR curve equation is as follows: \n",
    "\n",
    "$ t = t_{0} \\Bigg( 1 + \\alpha(\\frac v v_{c}) \\Bigg)^\\beta $\n",
    "\n",
    "$ t $ = travel time <br/>\n",
    "$ t_{0} $ = free-flow travel time <br/>\n",
    "$ v $ = volume (cars / hour) <br/>\n",
    "$ v_{c} $ = practical capacity (cars / hour) <br/>\n",
    "$ \\beta $ = Parameters derived from travel surveys to fit data for a particular roadway\n",
    "\n",
    "In this problem, you will model a 30-mile highway with three lanes of inbound traffic. The single-direction capacity is 2500 $ vehicles / lane / hr $. \n",
    "\n",
    "Traffic survey data fits produced values of $ \\alpha $ = 1.5 and $ \\beta $ = 4, and a free-dlow vehicle velocity of 60 mph. Value lost time due to congestion at $12/hr and assume one occupant per vehicle. Throughout this problem, ignore transition effects between peak and non-peak conditions"
   ]
  },
  {
   "cell_type": "markdown",
   "id": "b2a10583",
   "metadata": {},
   "source": [
    "### a) Plot $ t $ as a function of $ v $ for traffic volume values from 0 to 3000 $ cars / lane / hr $"
   ]
  },
  {
   "cell_type": "code",
   "execution_count": 1,
   "id": "387b0086",
   "metadata": {},
   "outputs": [],
   "source": [
    "import pandas as pd\n",
    "import math\n",
    "import os\n",
    "import sys"
   ]
  },
  {
   "cell_type": "code",
   "execution_count": 11,
   "id": "781cb0e4",
   "metadata": {},
   "outputs": [],
   "source": [
    "VOLUME_PRACTICAL_CAPACITY_PER_LANE = 2500. # 3 lanes @ 2500 vehicles / lane / hr\n",
    "# At 60 mph, a 30-mile highway would take 30 minutes\n",
    "FREE_FLOW_TRAVEL_TIME = 30. # minutes\n",
    "ALPHA = 1.5\n",
    "BETA = 4.\n",
    "NUM_LANES = 3.\n",
    "HIGHWAY_LENGTH = 30. # miles \n",
    "VALUE_LOST_DUE_TO_CONGESTION = 12. # $ /hr\n",
    "\n",
    "def get_travel_time(free_flow_travel_time, volume_cars_per_hr, volume_practical_capacity, alpha, beta):\n",
    "    \n",
    "    inner_term = 1 + (alpha * (volume_cars_per_hr / volume_practical_capacity)**beta)\n",
    "    travel_time = free_flow_travel_time * inner_term\n",
    "    \n",
    "    return travel_time"
   ]
  },
  {
   "cell_type": "code",
   "execution_count": 14,
   "id": "97b8b5b4",
   "metadata": {},
   "outputs": [],
   "source": [
    "rows = []\n",
    "\n",
    "for volume_cars_per_hr in range(0, 3001):\n",
    "    row = {\n",
    "        \"t\" : get_travel_time(\n",
    "            FREE_FLOW_TRAVEL_TIME, \n",
    "            NUM_LANES * volume_cars_per_hr, \n",
    "            VOLUME_PRACTICAL_CAPACITY_PER_LANE * NUM_LANES, \n",
    "            ALPHA, BETA\n",
    "        ),\n",
    "        \"v\" : NUM_LANES * volume_cars_per_hr,\n",
    "        \"inner_term\" : 1 + (ALPHA * ((NUM_LANES * volume_cars_per_hr) \\\n",
    "             / (VOLUME_PRACTICAL_CAPACITY_PER_LANE * NUM_LANES))**BETA),\n",
    "        \"volume_practical_capacity\": VOLUME_PRACTICAL_CAPACITY_PER_LANE * NUM_LANES,\n",
    "        \"volume\" : NUM_LANES * volume_cars_per_hr,\n",
    "        \"free_flow_travel_time\": FREE_FLOW_TRAVEL_TIME\n",
    "    }\n",
    "    \n",
    "    rows.append(row)\n",
    "\n",
    "travel_time_df = pd.DataFrame(rows)\n",
    "travel_time_df[\"veh_per_lane_per_hr\"] = travel_time_df[\"v\"] / NUM_LANES"
   ]
  },
  {
   "cell_type": "code",
   "execution_count": 15,
   "id": "32a8f7fe",
   "metadata": {},
   "outputs": [
    {
     "data": {
      "text/plain": [
       "<AxesSubplot:xlabel='volume (veh / lane / hr)', ylabel='time (minutes)'>"
      ]
     },
     "execution_count": 15,
     "metadata": {},
     "output_type": "execute_result"
    },
    {
     "data": {
      "image/png": "[encoded data removed]",
      "text/plain": [
       "<Figure size 432x288 with 1 Axes>"
      ]
     },
     "metadata": {
      "needs_background": "light"
     },
     "output_type": "display_data"
    }
   ],
   "source": [
    "travel_time_df.plot(\"veh_per_lane_per_hr\", \"t\", \n",
    "    xlabel = \"volume (veh / lane / hr)\", \n",
    "    ylabel =\"time (minutes)\", \n",
    "    ylim=[0, max(travel_time_df[\"t\"]) + .1 * (max(travel_time_df[\"t\"]))], \n",
    "    kind = \"line\"\n",
    ")"
   ]
  },
  {
   "cell_type": "markdown",
   "id": "9d60651e",
   "metadata": {},
   "source": [
    "### b) Suppose 2000 cars per lane per hour travel in the morning rush hour for a 2-hour rush period each workday morning. What is their average speed?"
   ]
  },
  {
   "cell_type": "code",
   "execution_count": 18,
   "id": "e403c9a7",
   "metadata": {},
   "outputs": [],
   "source": [
    "NUM_VEHICLES_PER_LANE = 2000.\n",
    "NUM_PEOPLE_PER_VEHICLE = 1.\n",
    "NUM_HOURS_RUSH_HOUR = 2.\n",
    "\n",
    "travel_time_in_minutes = get_travel_time(\n",
    "    FREE_FLOW_TRAVEL_TIME, \n",
    "    NUM_VEHICLES_PER_LANE * NUM_LANES, \n",
    "    VOLUME_PRACTICAL_CAPACITY_PER_LANE * NUM_LANES, \n",
    "    ALPHA, \n",
    "    BETA\n",
    ")"
   ]
  },
  {
   "cell_type": "code",
   "execution_count": 19,
   "id": "22768a2d",
   "metadata": {},
   "outputs": [
    {
     "name": "stdout",
     "output_type": "stream",
     "text": [
      "37.17 mph at average travel time of 48.43 minutes\n"
     ]
    }
   ],
   "source": [
    "average_mph = (60 / travel_time_in_minutes) * HIGHWAY_LENGTH\n",
    "\n",
    "print(\"{:.2f} mph at average travel time of {:.2f} minutes\".format(average_mph, travel_time_in_minutes))"
   ]
  },
  {
   "cell_type": "markdown",
   "id": "dc6510b7",
   "metadata": {},
   "source": [
    "### c) What is the value of time lost in one morning compared to the same situation where the same number of cars travel the length of the road in time $ t_0 $?\n",
    "\n",
    "This assumes that value lost due to congestion is $12/hour _per person_"
   ]
  },
  {
   "cell_type": "code",
   "execution_count": 20,
   "id": "c8b72687",
   "metadata": {},
   "outputs": [],
   "source": [
    "additional_travel_time_per_person_mins = travel_time_in_minutes - FREE_FLOW_TRAVEL_TIME\n",
    "additional_travel_time_per_person_hr = additional_travel_time_per_person_mins / 60."
   ]
  },
  {
   "cell_type": "code",
   "execution_count": 21,
   "id": "fe74d552",
   "metadata": {},
   "outputs": [
    {
     "name": "stdout",
     "output_type": "stream",
     "text": [
      "Total value of time lost per morning: $3,686.40\n"
     ]
    }
   ],
   "source": [
    "value_of_time_lost = additional_travel_time_per_person_hr \\\n",
    "    * (NUM_LANES * NUM_VEHICLES_PER_LANE * NUM_PEOPLE_PER_VEHICLE) \\\n",
    "    * NUM_HOURS_RUSH_HOUR\n",
    "\n",
    "print(\"Total value of time lost per morning: ${:,.2f}\".format(value_of_time_lost))"
   ]
  },
  {
   "cell_type": "markdown",
   "id": "5459a153",
   "metadata": {},
   "source": [
    "### d) The cost of building a highway in an urban setting is about $11 mil per mile. How long would it take to recover those costs in time saved if an extra lane of traffic were built? "
   ]
  },
  {
   "cell_type": "code",
   "execution_count": 22,
   "id": "e327a6d7",
   "metadata": {},
   "outputs": [],
   "source": [
    "travel_time_in_minutes_w_addtl_capacity = get_travel_time(\n",
    "    FREE_FLOW_TRAVEL_TIME, \n",
    "    NUM_VEHICLES_PER_LANE * NUM_LANES, \n",
    "    VOLUME_PRACTICAL_CAPACITY_PER_LANE * 4, \n",
    "    ALPHA, \n",
    "    BETA\n",
    ")"
   ]
  },
  {
   "cell_type": "code",
   "execution_count": 23,
   "id": "a6aeb5ee",
   "metadata": {},
   "outputs": [
    {
     "name": "stdout",
     "output_type": "stream",
     "text": [
      "Rush hour travel time without new lane: 48.43\n",
      "Rush hour travel time with new lane: 35.83\n",
      "Number of minutes saved per vehicle with additional lane: 12.60\n"
     ]
    }
   ],
   "source": [
    "print(\"Rush hour travel time without new lane: {:,.2f}\".format(travel_time_in_minutes))\n",
    "print(\"Rush hour travel time with new lane: {:,.2f}\".format(travel_time_in_minutes_w_addtl_capacity))\n",
    "\n",
    "print(\"Number of minutes saved per vehicle with additional lane: {:,.2f}\".format(\n",
    "    travel_time_in_minutes - travel_time_in_minutes_w_addtl_capacity\n",
    "))"
   ]
  },
  {
   "cell_type": "code",
   "execution_count": 24,
   "id": "f09d1529",
   "metadata": {},
   "outputs": [],
   "source": [
    "num_hours_saved_per_vehicle = (travel_time_in_minutes - travel_time_in_minutes_w_addtl_capacity)  \\\n",
    "    / 60 \\\n",
    "    * NUM_PEOPLE_PER_VEHICLE\n",
    "\n",
    "amount_saved_per_person = num_hours_saved_per_vehicle * VALUE_LOST_DUE_TO_CONGESTION\n",
    "amount_saved_per_person_per_morning = amount_saved_per_person * NUM_HOURS_RUSH_HOUR\n",
    "\n",
    "amount_saved_per_morning = amount_saved_per_person_per_morning \\\n",
    "    * NUM_LANES \\\n",
    "    * NUM_VEHICLES_PER_LANE \\\n",
    "    * NUM_PEOPLE_PER_VEHICLE\n",
    "\n",
    "total_cost_of_additional_lane_in_mm = 11 * HIGHWAY_LENGTH"
   ]
  },
  {
   "cell_type": "code",
   "execution_count": 25,
   "id": "a991a6fb",
   "metadata": {},
   "outputs": [
    {
     "name": "stdout",
     "output_type": "stream",
     "text": [
      "Number of years to recup costs: 29.90\n"
     ]
    }
   ],
   "source": [
    "num_days_to_recup_costs = round((total_cost_of_additional_lane_in_mm * 1000000) / amount_saved_per_morning, 0)\n",
    "\n",
    "print(\"Number of years to recup costs: {:,.2f}\".format(num_days_to_recup_costs / 365))"
   ]
  },
  {
   "cell_type": "markdown",
   "id": "6347a8c5",
   "metadata": {},
   "source": [
    "# Vehicle Load Equation and Fuel Demand\n",
    "2) A MATLAB script file (ENGY502_vehicle_drivecalcs_F2021.m) and an MS Excel file (ENGY502_vehicle_drivecalcs_F2021.xslx) provide a means for calculating the transient load and rate of fuel consumption for a ground vehicle for a given drive-cycle. The load $ W_{veh} $ and the rate of fuel energy consumed $ \\frac {dE_{fuel}} {dt} $  (shown in equation 1) are integrated\n",
    "\n",
    "$ \\frac {dE_{fuel}} {dt} = \\frac {1} {\\eta_{tr}} \\Bigg( \\Bigg[ m_{veh} \\Bigg(max(0, \\frac {dv_{veh}} {dt}) + C_{roll} g \\cos (\\alpha_{road}) + g \\sin(\\alpha_{road})\\Bigg) + \\frac {\\rho_air C_{drag} A_{veh} (v_{veh} - v_{air})^2} {2} \\Bigg] + \\frac {W_{acc}} {\\eta_{elec}}$ \n",
    "\n",
    "Drive-train efficiency $\\eta_{tr}(t) $ can vary with time due to changes in engine efficiency with power and RPM. This will identify power plant demands and fuel consumption $ \\Delta E_{fuel} $ for various drive cycles.\n",
    "\n",
    "Consider a Subaru Outback ($ m_{veh} = 1700 kg, A_{veh}=2.56 m^2, C_{drag} = 0.37, C_{roll} = 0.11, W_{acc} = 0.5 kW $) for this problem going through various drive cycles including the FTP-75 and HWFET drive cycles. Assuming the following simple relationship works for calculating the instantaneous $ \\eta_{tr} $\n",
    "\n",
    "$ \\eta_{tr} = \\alpha \\Bigg[ \\exp \\Bigg(- \\frac {W_{veh}} {W_{1}}\\Bigg) - \\exp \\Bigg(- \\frac {W_{veh}} {W_{2}}\\Bigg)\\Bigg] $ where $ W_{veh} $ is in kW. \n",
    "\n",
    "For this problem, we will assume $ a = 0.4, W_{1} = 200 kW, W_{2} = 17 kW $"
   ]
  },
  {
   "cell_type": "markdown",
   "id": "ba9344f7",
   "metadata": {},
   "source": [
    "### a) Given the data above, make a plot of fuel economy in mpg for a Subaru Outback as a function of constant vehicle speeds from 10 to 100 mph. Consider how a luggage rack adds 80 kg of mass and drag resistance. Also consider how snow tires increase rolling resistance. Using references to estimate the effects of a luggage rack and snow tires, overlay your plots of fuel economy vs. vehicle speed for an Outback with a rack, with snow tires, and with both.\n",
    "\n",
    "**Assumption**: Horizontal Road surface. Not uphill / downhill <br/>\n",
    "**Assumption**: Air density equals 1.149 <br/>\n",
    "**Assumption**: Wind velocity is 0 <br/>\n",
    "**Assumption**: Gasoline Energy density is 34.2 MJ / l"
   ]
  },
  {
   "cell_type": "code",
   "execution_count": 2,
   "id": "f5d8a912",
   "metadata": {},
   "outputs": [],
   "source": [
    "sys.path.append(os.path.dirname(os.path.realpath(\"__file__\")))\n",
    "\n",
    "from vehicle_drivecalcs import *\n",
    "\n",
    "DATA_DIR_BASE = os.path.join(\n",
    "    os.path.dirname(os.path.realpath(\"__file__\")),\n",
    "    \"data\",\n",
    "    \"hw2\"\n",
    ")\n",
    "\n",
    "RAW_DATA_DIR = os.path.join(\n",
    "    DATA_DIR_BASE,\n",
    "    \"raw\"\n",
    ")\n",
    "\n",
    "INTERIM_DATA_DIR = os.path.join(\n",
    "    DATA_DIR_BASE,\n",
    "    \"interim\"\n",
    ")\n",
    "\n",
    "constants_config = {\n",
    "    GRAVITATIONAL_CONSTANT_KEY: 9.81, # m/s^2\n",
    "    AIR_VELOCITY_KEY: 0, # m / s\n",
    "    AIR_DENSITY_KEY: 1.149, #kg / m^3\n",
    "    ROAD_ANGLE_KEY: 0, # degrees\n",
    "    GASOLINE_ENERGY_DENSITY_KEY: 34.20 # MJ / l\n",
    "}\n",
    "\n",
    "vehicle_config = {\n",
    "    MASS_OF_VEHICLE_KEY : 3000, # kg\n",
    "    FRONTAL_AREA_OF_VEHICLE_KEY : 2.2, #m^2\n",
    "    DRAG_COEFFICIENT_KEY : 0.33, # unitless\n",
    "    ROLLING_RESISTANCE_KEY : 0.009, # unitless\n",
    "    ACCESSORY_POWER_DEMAND_KEY : 0.6/0.7, #kW\n",
    "    ENGINE_EFFICIENCY_ALPHA_CONSTANT_KEY: 0.2,\n",
    "    ENGINE_EFFICIENCY_WORK_CONSTANT_1_KEY: 10000000.,\n",
    "    ENGINE_EFFICIENCY_WORK_CONSTANT_2_KEY: 10.,\n",
    "}"
   ]
  },
  {
   "cell_type": "code",
   "execution_count": 3,
   "id": "2b5fc2de",
   "metadata": {},
   "outputs": [
    {
     "name": "stderr",
     "output_type": "stream",
     "text": [
      "/Users/greg.bolla/Desktop/mines/aes-engy-502/code/vehicle_drivecalcs.py:329: RuntimeWarning: invalid value encountered in double_scalars\n",
      "  else x[TOTAL_FUEL_ENERGY_COLNAME] / x[TOTAL_DISTANCE_KM_COLNAME],\n"
     ]
    }
   ],
   "source": [
    "ftp_cycle_df = pd.read_csv(os.path.join(RAW_DATA_DIR, \"ftp_75.csv\"))\n",
    "full_ftp_cycle_df = create_cycle_df(ftp_cycle_df, vehicle_config, constants_config)\n",
    "ftp_aggregate_stats = find_aggregate_stats(full_ftp_cycle_df)"
   ]
  },
  {
   "cell_type": "code",
   "execution_count": 26,
   "id": "4934d22d",
   "metadata": {},
   "outputs": [
    {
     "data": {
      "text/plain": [
       "{'total_distance_traveled': 17.769437663999977,\n",
       " 'max_vehicle_power_demand': 66.47786694018585,\n",
       " 'avg_vehicle_power_demand': 8.185533981940148,\n",
       " 'total_vehicle_energy_demand': 15.33969068215584,\n",
       " 'total_fuel_energy_demand': 144.6256200390734,\n",
       " 'total_fuel_consumed': 4.22881929938811,\n",
       " 'avg_fuel_economy_km_per_l': 4.201985567595931,\n",
       " 'avg_fuel_economy_mpg': 9.88370035282077}"
      ]
     },
     "execution_count": 26,
     "metadata": {},
     "output_type": "execute_result"
    }
   ],
   "source": [
    "# matches output from original Excel ENGY502_vehicle_drivecalcs_F2021.xlsx file\n",
    "ftp_aggregate_stats"
   ]
  },
  {
   "cell_type": "code",
   "execution_count": 50,
   "id": "50385260",
   "metadata": {},
   "outputs": [
    {
     "name": "stderr",
     "output_type": "stream",
     "text": [
      "/Users/greg.bolla/Desktop/mines/aes-engy-502/code/vehicle_drivecalcs.py:329: RuntimeWarning: invalid value encountered in double_scalars\n",
      "  else x[TOTAL_FUEL_ENERGY_COLNAME] / x[TOTAL_DISTANCE_KM_COLNAME],\n"
     ]
    }
   ],
   "source": [
    "constants_config = {\n",
    "    GRAVITATIONAL_CONSTANT_KEY: 9.81, # m/s^2\n",
    "    AIR_VELOCITY_KEY: 0, # m / s\n",
    "    AIR_DENSITY_KEY: 1.149, #kg / m^3\n",
    "    ROAD_ANGLE_KEY: 0, # degrees\n",
    "    GASOLINE_ENERGY_DENSITY_KEY: 34.20 # MJ / l\n",
    "}\n",
    "\n",
    "subaru_config = {\n",
    "    MASS_OF_VEHICLE_KEY : 1700, # kg\n",
    "    FRONTAL_AREA_OF_VEHICLE_KEY : 2.56, #m^2\n",
    "    DRAG_COEFFICIENT_KEY : 0.37, # unitless\n",
    "    ROLLING_RESISTANCE_KEY : 0.011, # unitless\n",
    "    ACCESSORY_POWER_DEMAND_KEY : 0.5, #kW\n",
    "    ENGINE_EFFICIENCY_ALPHA_CONSTANT_KEY: 0.4,\n",
    "    ENGINE_EFFICIENCY_WORK_CONSTANT_1_KEY: 200000., #W\n",
    "    ENGINE_EFFICIENCY_WORK_CONSTANT_2_KEY: 17.,\n",
    "}\n",
    "\n",
    "output_array = []\n",
    "for speed_mph in range(10, 110, 10):\n",
    "    m_per_s = get_m_per_s_from_mph(speed_mph)\n",
    "\n",
    "    constant_velocity_df = pd.DataFrame([{\n",
    "        TIME_COLNAME: i, \n",
    "        VELOCITY_VEHICLE_MPH_COLNAME: speed_mph,\n",
    "        VELOCITY_VEHICLE_M_PER_S_COLNAME: get_m_per_s_from_mph(speed_mph)} \n",
    "        for i in range(0, 11)\n",
    "    ])\n",
    "    \n",
    "    augmented_constant_velocity_df = create_cycle_df(constant_velocity_df, subaru_config, constants_config)\n",
    "    \n",
    "    output_array.append({\n",
    "        \"mph\" : speed_mph,\n",
    "        \"mpg\" : find_aggregate_stats(augmented_constant_velocity_df)[AVG_FUEL_ECONOMY_MPG_KEY]\n",
    "    })\n",
    "    \n",
    "output_df = pd.DataFrame(output_array)"
   ]
  },
  {
   "cell_type": "code",
   "execution_count": 52,
   "id": "1506bd37",
   "metadata": {},
   "outputs": [
    {
     "data": {
      "text/plain": [
       "<AxesSubplot:title={'center':'With Roof Rack and Snow Tires'}, xlabel='MPH', ylabel='MPG'>"
      ]
     },
     "execution_count": 52,
     "metadata": {},
     "output_type": "execute_result"
    },
    {
     "data": {
      "image/png": "[encoded data removed]",
      "text/plain": [
       "<Figure size 432x288 with 1 Axes>"
      ]
     },
     "metadata": {
      "needs_background": "light"
     },
     "output_type": "display_data"
    }
   ],
   "source": [
    "output_df.plot(\"mph\", \"mpg\", xlabel=\"MPH\", ylabel=\"MPG\", title=\"With Roof Rack and Snow Tires\")"
   ]
  },
  {
   "cell_type": "code",
   "execution_count": 44,
   "id": "b99bc3db",
   "metadata": {},
   "outputs": [
    {
     "data": {
      "text/plain": [
       "<AxesSubplot:title={'center':'With Snow Tires'}, xlabel='MPH', ylabel='MPG'>"
      ]
     },
     "execution_count": 44,
     "metadata": {},
     "output_type": "execute_result"
    },
    {
     "data": {
      "image/png": "[encoded data removed]",
      "text/plain": [
       "<Figure size 432x288 with 1 Axes>"
      ]
     },
     "metadata": {
      "needs_background": "light"
     },
     "output_type": "display_data"
    }
   ],
   "source": [
    "output_df.plot(\"mph\", \"mpg\", xlabel=\"MPH\", ylabel=\"MPG\", title=\"With Snow Tires\")"
   ]
  },
  {
   "cell_type": "code",
   "execution_count": 31,
   "id": "98b36dae",
   "metadata": {},
   "outputs": [
    {
     "data": {
      "text/plain": [
       "<AxesSubplot:title={'center':'Original Vehicle'}, xlabel='MPH', ylabel='MPG'>"
      ]
     },
     "execution_count": 31,
     "metadata": {},
     "output_type": "execute_result"
    },
    {
     "data": {
      "image/png": "[encoded data removed]",
      "text/plain": [
       "<Figure size 432x288 with 1 Axes>"
      ]
     },
     "metadata": {
      "needs_background": "light"
     },
     "output_type": "display_data"
    }
   ],
   "source": []
  },
  {
   "cell_type": "code",
   "execution_count": 42,
   "id": "bfb90fd1",
   "metadata": {},
   "outputs": [
    {
     "data": {
      "text/html": [
       "<div>\n",
       "<style scoped>\n",
       "    .dataframe tbody tr th:only-of-type {\n",
       "        vertical-align: middle;\n",
       "    }\n",
       "\n",
       "    .dataframe tbody tr th {\n",
       "        vertical-align: top;\n",
       "    }\n",
       "\n",
       "    .dataframe thead th {\n",
       "        text-align: right;\n",
       "    }\n",
       "</style>\n",
       "<table border=\"1\" class=\"dataframe\">\n",
       "  <thead>\n",
       "    <tr style=\"text-align: right;\">\n",
       "      <th></th>\n",
       "      <th>mph</th>\n",
       "      <th>mpg</th>\n",
       "    </tr>\n",
       "  </thead>\n",
       "  <tbody>\n",
       "    <tr>\n",
       "      <th>0</th>\n",
       "      <td>10</td>\n",
       "      <td>8.129140</td>\n",
       "    </tr>\n",
       "    <tr>\n",
       "      <th>1</th>\n",
       "      <td>20</td>\n",
       "      <td>15.722962</td>\n",
       "    </tr>\n",
       "    <tr>\n",
       "      <th>2</th>\n",
       "      <td>30</td>\n",
       "      <td>22.443571</td>\n",
       "    </tr>\n",
       "    <tr>\n",
       "      <th>3</th>\n",
       "      <td>40</td>\n",
       "      <td>27.822965</td>\n",
       "    </tr>\n",
       "    <tr>\n",
       "      <th>4</th>\n",
       "      <td>50</td>\n",
       "      <td>41.687907</td>\n",
       "    </tr>\n",
       "    <tr>\n",
       "      <th>5</th>\n",
       "      <td>60</td>\n",
       "      <td>50.025488</td>\n",
       "    </tr>\n",
       "    <tr>\n",
       "      <th>6</th>\n",
       "      <td>70</td>\n",
       "      <td>58.363069</td>\n",
       "    </tr>\n",
       "    <tr>\n",
       "      <th>7</th>\n",
       "      <td>80</td>\n",
       "      <td>66.700650</td>\n",
       "    </tr>\n",
       "    <tr>\n",
       "      <th>8</th>\n",
       "      <td>90</td>\n",
       "      <td>75.038232</td>\n",
       "    </tr>\n",
       "    <tr>\n",
       "      <th>9</th>\n",
       "      <td>100</td>\n",
       "      <td>83.375813</td>\n",
       "    </tr>\n",
       "  </tbody>\n",
       "</table>\n",
       "</div>"
      ],
      "text/plain": [
       "   mph        mpg\n",
       "0   10   8.129140\n",
       "1   20  15.722962\n",
       "2   30  22.443571\n",
       "3   40  27.822965\n",
       "4   50  41.687907\n",
       "5   60  50.025488\n",
       "6   70  58.363069\n",
       "7   80  66.700650\n",
       "8   90  75.038232\n",
       "9  100  83.375813"
      ]
     },
     "execution_count": 42,
     "metadata": {},
     "output_type": "execute_result"
    }
   ],
   "source": [
    "output_df # original vehicle"
   ]
  },
  {
   "cell_type": "code",
   "execution_count": 45,
   "id": "97ef8666",
   "metadata": {},
   "outputs": [
    {
     "data": {
      "text/html": [
       "<div>\n",
       "<style scoped>\n",
       "    .dataframe tbody tr th:only-of-type {\n",
       "        vertical-align: middle;\n",
       "    }\n",
       "\n",
       "    .dataframe tbody tr th {\n",
       "        vertical-align: top;\n",
       "    }\n",
       "\n",
       "    .dataframe thead th {\n",
       "        text-align: right;\n",
       "    }\n",
       "</style>\n",
       "<table border=\"1\" class=\"dataframe\">\n",
       "  <thead>\n",
       "    <tr style=\"text-align: right;\">\n",
       "      <th></th>\n",
       "      <th>mph</th>\n",
       "      <th>mpg</th>\n",
       "    </tr>\n",
       "  </thead>\n",
       "  <tbody>\n",
       "    <tr>\n",
       "      <th>0</th>\n",
       "      <td>10</td>\n",
       "      <td>8.100190</td>\n",
       "    </tr>\n",
       "    <tr>\n",
       "      <th>1</th>\n",
       "      <td>20</td>\n",
       "      <td>15.612526</td>\n",
       "    </tr>\n",
       "    <tr>\n",
       "      <th>2</th>\n",
       "      <td>30</td>\n",
       "      <td>22.211784</td>\n",
       "    </tr>\n",
       "    <tr>\n",
       "      <th>3</th>\n",
       "      <td>40</td>\n",
       "      <td>27.450876</td>\n",
       "    </tr>\n",
       "    <tr>\n",
       "      <th>4</th>\n",
       "      <td>50</td>\n",
       "      <td>41.687907</td>\n",
       "    </tr>\n",
       "    <tr>\n",
       "      <th>5</th>\n",
       "      <td>60</td>\n",
       "      <td>50.025488</td>\n",
       "    </tr>\n",
       "    <tr>\n",
       "      <th>6</th>\n",
       "      <td>70</td>\n",
       "      <td>58.363069</td>\n",
       "    </tr>\n",
       "    <tr>\n",
       "      <th>7</th>\n",
       "      <td>80</td>\n",
       "      <td>66.700650</td>\n",
       "    </tr>\n",
       "    <tr>\n",
       "      <th>8</th>\n",
       "      <td>90</td>\n",
       "      <td>75.038232</td>\n",
       "    </tr>\n",
       "    <tr>\n",
       "      <th>9</th>\n",
       "      <td>100</td>\n",
       "      <td>83.375813</td>\n",
       "    </tr>\n",
       "  </tbody>\n",
       "</table>\n",
       "</div>"
      ],
      "text/plain": [
       "   mph        mpg\n",
       "0   10   8.100190\n",
       "1   20  15.612526\n",
       "2   30  22.211784\n",
       "3   40  27.450876\n",
       "4   50  41.687907\n",
       "5   60  50.025488\n",
       "6   70  58.363069\n",
       "7   80  66.700650\n",
       "8   90  75.038232\n",
       "9  100  83.375813"
      ]
     },
     "execution_count": 45,
     "metadata": {},
     "output_type": "execute_result"
    }
   ],
   "source": [
    "output_df # with snow tires"
   ]
  },
  {
   "cell_type": "code",
   "execution_count": 48,
   "id": "fd66519e",
   "metadata": {},
   "outputs": [
    {
     "data": {
      "text/html": [
       "<div>\n",
       "<style scoped>\n",
       "    .dataframe tbody tr th:only-of-type {\n",
       "        vertical-align: middle;\n",
       "    }\n",
       "\n",
       "    .dataframe tbody tr th {\n",
       "        vertical-align: top;\n",
       "    }\n",
       "\n",
       "    .dataframe thead th {\n",
       "        text-align: right;\n",
       "    }\n",
       "</style>\n",
       "<table border=\"1\" class=\"dataframe\">\n",
       "  <thead>\n",
       "    <tr style=\"text-align: right;\">\n",
       "      <th></th>\n",
       "      <th>mph</th>\n",
       "      <th>mpg</th>\n",
       "    </tr>\n",
       "  </thead>\n",
       "  <tbody>\n",
       "    <tr>\n",
       "      <th>0</th>\n",
       "      <td>10</td>\n",
       "      <td>8.118210</td>\n",
       "    </tr>\n",
       "    <tr>\n",
       "      <th>1</th>\n",
       "      <td>20</td>\n",
       "      <td>15.660254</td>\n",
       "    </tr>\n",
       "    <tr>\n",
       "      <th>2</th>\n",
       "      <td>30</td>\n",
       "      <td>22.238775</td>\n",
       "    </tr>\n",
       "    <tr>\n",
       "      <th>3</th>\n",
       "      <td>40</td>\n",
       "      <td>33.350325</td>\n",
       "    </tr>\n",
       "    <tr>\n",
       "      <th>4</th>\n",
       "      <td>50</td>\n",
       "      <td>41.687907</td>\n",
       "    </tr>\n",
       "    <tr>\n",
       "      <th>5</th>\n",
       "      <td>60</td>\n",
       "      <td>50.025488</td>\n",
       "    </tr>\n",
       "    <tr>\n",
       "      <th>6</th>\n",
       "      <td>70</td>\n",
       "      <td>58.363069</td>\n",
       "    </tr>\n",
       "    <tr>\n",
       "      <th>7</th>\n",
       "      <td>80</td>\n",
       "      <td>66.700650</td>\n",
       "    </tr>\n",
       "    <tr>\n",
       "      <th>8</th>\n",
       "      <td>90</td>\n",
       "      <td>75.038232</td>\n",
       "    </tr>\n",
       "    <tr>\n",
       "      <th>9</th>\n",
       "      <td>100</td>\n",
       "      <td>83.375813</td>\n",
       "    </tr>\n",
       "  </tbody>\n",
       "</table>\n",
       "</div>"
      ],
      "text/plain": [
       "   mph        mpg\n",
       "0   10   8.118210\n",
       "1   20  15.660254\n",
       "2   30  22.238775\n",
       "3   40  33.350325\n",
       "4   50  41.687907\n",
       "5   60  50.025488\n",
       "6   70  58.363069\n",
       "7   80  66.700650\n",
       "8   90  75.038232\n",
       "9  100  83.375813"
      ]
     },
     "execution_count": 48,
     "metadata": {},
     "output_type": "execute_result"
    }
   ],
   "source": [
    "output_df # w roof rack"
   ]
  },
  {
   "cell_type": "code",
   "execution_count": 53,
   "id": "f6bf4f4d",
   "metadata": {},
   "outputs": [
    {
     "data": {
      "text/html": [
       "<div>\n",
       "<style scoped>\n",
       "    .dataframe tbody tr th:only-of-type {\n",
       "        vertical-align: middle;\n",
       "    }\n",
       "\n",
       "    .dataframe tbody tr th {\n",
       "        vertical-align: top;\n",
       "    }\n",
       "\n",
       "    .dataframe thead th {\n",
       "        text-align: right;\n",
       "    }\n",
       "</style>\n",
       "<table border=\"1\" class=\"dataframe\">\n",
       "  <thead>\n",
       "    <tr style=\"text-align: right;\">\n",
       "      <th></th>\n",
       "      <th>mph</th>\n",
       "      <th>mpg</th>\n",
       "    </tr>\n",
       "  </thead>\n",
       "  <tbody>\n",
       "    <tr>\n",
       "      <th>0</th>\n",
       "      <td>10</td>\n",
       "      <td>8.087956</td>\n",
       "    </tr>\n",
       "    <tr>\n",
       "      <th>1</th>\n",
       "      <td>20</td>\n",
       "      <td>15.545269</td>\n",
       "    </tr>\n",
       "    <tr>\n",
       "      <th>2</th>\n",
       "      <td>30</td>\n",
       "      <td>21.999170</td>\n",
       "    </tr>\n",
       "    <tr>\n",
       "      <th>3</th>\n",
       "      <td>40</td>\n",
       "      <td>26.951303</td>\n",
       "    </tr>\n",
       "    <tr>\n",
       "      <th>4</th>\n",
       "      <td>50</td>\n",
       "      <td>41.687907</td>\n",
       "    </tr>\n",
       "    <tr>\n",
       "      <th>5</th>\n",
       "      <td>60</td>\n",
       "      <td>50.025488</td>\n",
       "    </tr>\n",
       "    <tr>\n",
       "      <th>6</th>\n",
       "      <td>70</td>\n",
       "      <td>58.363069</td>\n",
       "    </tr>\n",
       "    <tr>\n",
       "      <th>7</th>\n",
       "      <td>80</td>\n",
       "      <td>66.700650</td>\n",
       "    </tr>\n",
       "    <tr>\n",
       "      <th>8</th>\n",
       "      <td>90</td>\n",
       "      <td>75.038232</td>\n",
       "    </tr>\n",
       "    <tr>\n",
       "      <th>9</th>\n",
       "      <td>100</td>\n",
       "      <td>83.375813</td>\n",
       "    </tr>\n",
       "  </tbody>\n",
       "</table>\n",
       "</div>"
      ],
      "text/plain": [
       "   mph        mpg\n",
       "0   10   8.087956\n",
       "1   20  15.545269\n",
       "2   30  21.999170\n",
       "3   40  26.951303\n",
       "4   50  41.687907\n",
       "5   60  50.025488\n",
       "6   70  58.363069\n",
       "7   80  66.700650\n",
       "8   90  75.038232\n",
       "9  100  83.375813"
      ]
     },
     "execution_count": 53,
     "metadata": {},
     "output_type": "execute_result"
    }
   ],
   "source": [
    "output_df # w roof rack and snow tires"
   ]
  },
  {
   "cell_type": "markdown",
   "id": "ee090a96",
   "metadata": {},
   "source": [
    "### b) Using the FTP-75 and HWFET drive cycles, plot the instantaneous vehivle loads (in W) and the average fuel economy over the cycle in km/l or mpg"
   ]
  },
  {
   "cell_type": "code",
   "execution_count": 54,
   "id": "1fc149b9",
   "metadata": {},
   "outputs": [],
   "source": [
    "ftp_75_df = pd.read_csv(os.path.join(RAW_DATA_DIR, \"ftp_75.csv\"))\n",
    "hwfet_df = pd.read_csv(os.path.join(RAW_DATA_DIR, \"hwfet.csv\"))"
   ]
  },
  {
   "cell_type": "code",
   "execution_count": 70,
   "id": "9ac8f11f",
   "metadata": {},
   "outputs": [
    {
     "name": "stderr",
     "output_type": "stream",
     "text": [
      "/Users/greg.bolla/Desktop/mines/aes-engy-502/code/vehicle_drivecalcs.py:329: RuntimeWarning: invalid value encountered in double_scalars\n",
      "  else x[TOTAL_FUEL_ENERGY_COLNAME] / x[TOTAL_DISTANCE_KM_COLNAME],\n"
     ]
    }
   ],
   "source": [
    "constants_config = {\n",
    "    GRAVITATIONAL_CONSTANT_KEY: 9.81, # m/s^2\n",
    "    AIR_VELOCITY_KEY: 0, # m / s\n",
    "    AIR_DENSITY_KEY: 1.149, #kg / m^3\n",
    "    ROAD_ANGLE_KEY: 0, # degrees\n",
    "    GASOLINE_ENERGY_DENSITY_KEY: 34.20 # MJ / l\n",
    "}\n",
    "\n",
    "subaru_config = {\n",
    "    MASS_OF_VEHICLE_KEY : 1700, # kg\n",
    "    FRONTAL_AREA_OF_VEHICLE_KEY : 2.56, #m^2\n",
    "    DRAG_COEFFICIENT_KEY : 0.37, # unitless\n",
    "    ROLLING_RESISTANCE_KEY : 0.011, # unitless\n",
    "    ACCESSORY_POWER_DEMAND_KEY : 0.5, #kW\n",
    "    ENGINE_EFFICIENCY_ALPHA_CONSTANT_KEY: 0.4,\n",
    "    ENGINE_EFFICIENCY_WORK_CONSTANT_1_KEY: 200000., #W\n",
    "    ENGINE_EFFICIENCY_WORK_CONSTANT_2_KEY: 17.,\n",
    "}\n",
    "\n",
    "augmented_hwfet_df = create_cycle_df(hwfet_df, vehicle_config=subaru_config, constants_config=constants_config)\n",
    "augmented_ftp_75_df = create_cycle_df(ftp_75_df, vehicle_config=subaru_config, constants_config=constants_config)\n",
    "\n",
    "augmented_hwfet_df[POWER_DEMAND_TOTAL_IN_W_COLNAME] = augmented_hwfet_df[POWER_DEMAND_TOTAL_COLNAME] * 1000\n",
    "augmented_ftp_75_df[POWER_DEMAND_TOTAL_IN_W_COLNAME] = augmented_ftp_75_df[POWER_DEMAND_TOTAL_COLNAME] * 1000\n",
    "\n",
    "augmented_hwfet_df[FUEL_EFFICIENCY_MPG_COLNAME] = augmented_hwfet_df[FUEL_EFFICIENCY_KM_PER_L_COLNAME] * 2.35215\n",
    "augmented_ftp_75_df[FUEL_EFFICIENCY_MPG_COLNAME] = augmented_ftp_75_df[FUEL_EFFICIENCY_KM_PER_L_COLNAME] * 2.35215"
   ]
  },
  {
   "cell_type": "code",
   "execution_count": 71,
   "id": "1776eaa5",
   "metadata": {},
   "outputs": [
    {
     "data": {
      "text/plain": [
       "<AxesSubplot:title={'center':'HWFET Drive Cycle - Power Demand'}, xlabel='Time (S)', ylabel='Instantaneous Power Demand (W)'>"
      ]
     },
     "execution_count": 71,
     "metadata": {},
     "output_type": "execute_result"
    },
    {
     "data": {
      "image/png": "[encoded data removed]",
      "text/plain": [
       "<Figure size 432x288 with 1 Axes>"
      ]
     },
     "metadata": {
      "needs_background": "light"
     },
     "output_type": "display_data"
    }
   ],
   "source": [
    "augmented_hwfet_df.plot(TIME_COLNAME, POWER_DEMAND_TOTAL_IN_W_COLNAME, \n",
    "    xlabel=\"Time (S)\",\n",
    "    ylabel=\"Instantaneous Power Demand (W)\",\n",
    "    legend = False,\n",
    "    title = \"HWFET Drive Cycle - Power Demand\"\n",
    ")"
   ]
  },
  {
   "cell_type": "code",
   "execution_count": 72,
   "id": "1e231e9c",
   "metadata": {},
   "outputs": [
    {
     "data": {
      "text/plain": [
       "<AxesSubplot:title={'center':'HWFET Drive Cycle - Fuel Economy'}, xlabel='Time (S)', ylabel='Fuel Economy (MPG)'>"
      ]
     },
     "execution_count": 72,
     "metadata": {},
     "output_type": "execute_result"
    },
    {
     "data": {
      "image/png": "[encoded data removed]",
      "text/plain": [
       "<Figure size 432x288 with 1 Axes>"
      ]
     },
     "metadata": {
      "needs_background": "light"
     },
     "output_type": "display_data"
    }
   ],
   "source": [
    "augmented_hwfet_df.plot(TIME_COLNAME, FUEL_EFFICIENCY_MPG_COLNAME, \n",
    "    xlabel=\"Time (S)\",\n",
    "    ylabel=\"Fuel Economy (MPG)\",\n",
    "    legend = False,\n",
    "    title = \"HWFET Drive Cycle - Fuel Economy\"\n",
    ")"
   ]
  },
  {
   "cell_type": "code",
   "execution_count": 73,
   "id": "6ee5a6fa",
   "metadata": {},
   "outputs": [
    {
     "data": {
      "text/plain": [
       "<AxesSubplot:title={'center':'FTP-75 Drive Cycle - Power Demand'}, xlabel='Time (S)', ylabel='Instantaneous Power Demand (W)'>"
      ]
     },
     "execution_count": 73,
     "metadata": {},
     "output_type": "execute_result"
    },
    {
     "data": {
      "image/png": "[encoded data removed]",
      "text/plain": [
       "<Figure size 432x288 with 1 Axes>"
      ]
     },
     "metadata": {
      "needs_background": "light"
     },
     "output_type": "display_data"
    }
   ],
   "source": [
    "augmented_ftp_75_df.plot(TIME_COLNAME, POWER_DEMAND_TOTAL_IN_W_COLNAME, \n",
    "    xlabel=\"Time (S)\",\n",
    "    ylabel=\"Instantaneous Power Demand (W)\",\n",
    "    legend = False,\n",
    "    title = \"FTP-75 Drive Cycle - Power Demand\"\n",
    ")"
   ]
  },
  {
   "cell_type": "code",
   "execution_count": 74,
   "id": "2b213932",
   "metadata": {},
   "outputs": [
    {
     "data": {
      "text/plain": [
       "<AxesSubplot:title={'center':'FTP-75 Drive Cycle - Fuel Economy'}, xlabel='Time (S)', ylabel='Fuel Economy (MPG)'>"
      ]
     },
     "execution_count": 74,
     "metadata": {},
     "output_type": "execute_result"
    },
    {
     "data": {
      "image/png": "[encoded data removed]",
      "text/plain": [
       "<Figure size 432x288 with 1 Axes>"
      ]
     },
     "metadata": {
      "needs_background": "light"
     },
     "output_type": "display_data"
    }
   ],
   "source": [
    "augmented_ftp_75_df.plot(TIME_COLNAME, FUEL_EFFICIENCY_MPG_COLNAME, \n",
    "    xlabel=\"Time (S)\",\n",
    "    ylabel=\"Fuel Economy (MPG)\",\n",
    "    legend = False,\n",
    "    title = \"FTP-75 Drive Cycle - Fuel Economy\"\n",
    ")"
   ]
  },
  {
   "cell_type": "markdown",
   "id": "170b012f",
   "metadata": {},
   "source": [
    "### c) Consider the HWFET drive cycle and how rush hour driving might impact it. The actual cycle may have much more starts and tops. Input one stop start cycle into your original HWET cycle where the $ v_veh $ vs $ t $ decays linearly over 10s to a full stop and then idles for 60s before accelerating in 10s to the previous $ v_veh $. Calculate the sensitivity in average fuel economy for the HWET to the addition of one start-stop and from that value estimate how many similar stop-starts would be required to result in a 20% drop in fuel economy for the HWFET cycle"
   ]
  },
  {
   "cell_type": "code",
   "execution_count": 107,
   "id": "6080a8d7",
   "metadata": {},
   "outputs": [],
   "source": [
    "start_stop_df = hwfet_df.copy()"
   ]
  },
  {
   "cell_type": "code",
   "execution_count": 114,
   "id": "c8463b91",
   "metadata": {},
   "outputs": [],
   "source": [
    "## start_time = start_stop_df[start_stop_df[VELOCITY_VEHICLE_MPH_COLNAME] == max(start_stop_df[VELOCITY_VEHICLE_MPH_COLNAME])][TIME_COLNAME].values[0]\n",
    "idle_start_time = start_time + 10\n",
    "reaccelerate_start_time = idle_start_time + 60\n",
    "velocity_change_per_s = max(start_stop_df[VELOCITY_VEHICLE_MPH_COLNAME]) / 10.\n",
    "\n",
    "velocity_multiplier = 10\n",
    "for time_s in range(start_time, start_time + 10):\n",
    "\n",
    "    velocity_multiplier -= 1\n",
    "    \n",
    "    start_stop_df.loc[start_stop_df[TIME_COLNAME] == time_s, VELOCITY_VEHICLE_MPH_COLNAME] = \\\n",
    "        velocity_change_per_s * velocity_multiplier\n",
    "    \n",
    "for time_s in range(idle_start_time, idle_start_time + 60):\n",
    "    \n",
    "    start_stop_df.loc[start_stop_df[TIME_COLNAME] == time_s, VELOCITY_VEHICLE_MPH_COLNAME] = 0\n",
    "\n",
    "for time_s in range(reaccelerate_start_time, reaccelerate_start_time + 10):\n",
    "    \n",
    "    velocity_multiplier += 1\n",
    "    start_stop_df.loc[start_stop_df[TIME_COLNAME] == time_s, VELOCITY_VEHICLE_MPH_COLNAME] = \\\n",
    "        velocity_change_per_s * velocity_multiplier\n"
   ]
  },
  {
   "cell_type": "code",
   "execution_count": 115,
   "id": "2392354f",
   "metadata": {},
   "outputs": [
    {
     "name": "stderr",
     "output_type": "stream",
     "text": [
      "/Users/greg.bolla/Desktop/mines/aes-engy-502/code/vehicle_drivecalcs.py:329: RuntimeWarning: invalid value encountered in double_scalars\n",
      "  else x[TOTAL_FUEL_ENERGY_COLNAME] / x[TOTAL_DISTANCE_KM_COLNAME],\n"
     ]
    }
   ],
   "source": [
    "original_hwfet_df = create_cycle_df(hwfet_df, vehicle_config=subaru_config, constants_config=constants_config)\n",
    "one_start_stop_df = create_cycle_df(start_stop_df, vehicle_config=subaru_config, constants_config=constants_config)"
   ]
  },
  {
   "cell_type": "code",
   "execution_count": 118,
   "id": "29fd5187",
   "metadata": {},
   "outputs": [
    {
     "data": {
      "text/plain": [
       "33.86705542470735"
      ]
     },
     "execution_count": 118,
     "metadata": {},
     "output_type": "execute_result"
    }
   ],
   "source": [
    "find_aggregate_stats(original_hwfet_df)[AVG_FUEL_ECONOMY_MPG_KEY]"
   ]
  },
  {
   "cell_type": "code",
   "execution_count": 119,
   "id": "ea5f7ae3",
   "metadata": {},
   "outputs": [
    {
     "data": {
      "text/plain": [
       "29.12410322196776"
      ]
     },
     "execution_count": 119,
     "metadata": {},
     "output_type": "execute_result"
    }
   ],
   "source": [
    "find_aggregate_stats(one_start_stop_df)[AVG_FUEL_ECONOMY_MPG_KEY]"
   ]
  },
  {
   "cell_type": "code",
   "execution_count": null,
   "id": "26b92d0a",
   "metadata": {},
   "outputs": [],
   "source": []
  }
 ],
 "metadata": {
  "kernelspec": {
   "display_name": "Python 3 (ipykernel)",
   "language": "python",
   "name": "python3"
  },
  "language_info": {
   "codemirror_mode": {
    "name": "ipython",
    "version": 3
   },
   "file_extension": ".py",
   "mimetype": "text/x-python",
   "name": "python",
   "nbconvert_exporter": "python",
   "pygments_lexer": "ipython3",
   "version": "3.9.1"
  }
 },
 "nbformat": 4,
 "nbformat_minor": 5
}
